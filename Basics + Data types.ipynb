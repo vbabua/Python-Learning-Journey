{
 "cells": [
  {
   "cell_type": "markdown",
   "id": "dd5309e2",
   "metadata": {},
   "source": [
    "# Comments"
   ]
  },
  {
   "cell_type": "code",
   "execution_count": 122,
   "id": "0e77ca46",
   "metadata": {},
   "outputs": [
    {
     "data": {
      "text/plain": [
       "'\\nMulti line comments\\n'"
      ]
     },
     "execution_count": 122,
     "metadata": {},
     "output_type": "execute_result"
    }
   ],
   "source": [
    "#single line comments\n",
    "'''\n",
    "Multi line comments\n",
    "'''"
   ]
  },
  {
   "cell_type": "markdown",
   "id": "16d797e0-db2c-4c83-aac1-27713876079c",
   "metadata": {},
   "source": [
    "# Keywords\n",
    "Keywords are the reserved words in Python and can't be used as an identifier"
   ]
  },
  {
   "cell_type": "code",
   "execution_count": 124,
   "id": "8c09cedd-6358-488a-b470-95ddd32f140e",
   "metadata": {},
   "outputs": [
    {
     "name": "stdout",
     "output_type": "stream",
     "text": [
      "['False', 'None', 'True', 'and', 'as', 'assert', 'async', 'await', 'break', 'class', 'continue', 'def', 'del', 'elif', 'else', 'except', 'finally', 'for', 'from', 'global', 'if', 'import', 'in', 'is', 'lambda', 'nonlocal', 'not', 'or', 'pass', 'raise', 'return', 'try', 'while', 'with', 'yield']\n"
     ]
    }
   ],
   "source": [
    "import keyword\n",
    "# List all Python Keywords\n",
    "print(keyword.kwlist) "
   ]
  },
  {
   "cell_type": "markdown",
   "id": "9409766c",
   "metadata": {},
   "source": [
    "# Statements\n",
    "Instructions that a Python interpreter can execute"
   ]
  },
  {
   "cell_type": "code",
   "execution_count": 126,
   "id": "4bbf55e0-7b3b-4894-9730-7ad2d2788df0",
   "metadata": {},
   "outputs": [],
   "source": [
    "# Single line statement\n",
    "\n",
    "a = 2 + 3"
   ]
  },
  {
   "cell_type": "code",
   "execution_count": 127,
   "id": "f5007f35-a601-4fa0-ab05-fe9856b472fa",
   "metadata": {},
   "outputs": [
    {
     "data": {
      "text/plain": [
       "586"
      ]
     },
     "execution_count": 127,
     "metadata": {},
     "output_type": "execute_result"
    }
   ],
   "source": [
    "# Multi line statement\n",
    "\n",
    "a = 20 + 30 \\\n",
    "    + 50 + 343 \\\n",
    "    + 44 + 99\n",
    "a"
   ]
  },
  {
   "cell_type": "markdown",
   "id": "429ca2e6",
   "metadata": {},
   "source": [
    "# Various data types in Python"
   ]
  },
  {
   "cell_type": "markdown",
   "id": "482b6de3",
   "metadata": {},
   "source": [
    "## Numbers"
   ]
  },
  {
   "cell_type": "code",
   "execution_count": 130,
   "id": "23ded64c",
   "metadata": {},
   "outputs": [
    {
     "data": {
      "text/plain": [
       "2"
      ]
     },
     "execution_count": 130,
     "metadata": {},
     "output_type": "execute_result"
    }
   ],
   "source": [
    "1+1"
   ]
  },
  {
   "cell_type": "code",
   "execution_count": 131,
   "id": "a6bf81c4",
   "metadata": {},
   "outputs": [
    {
     "data": {
      "text/plain": [
       "20"
      ]
     },
     "execution_count": 131,
     "metadata": {},
     "output_type": "execute_result"
    }
   ],
   "source": [
    "4*5"
   ]
  },
  {
   "cell_type": "code",
   "execution_count": 132,
   "id": "771ea9cc",
   "metadata": {},
   "outputs": [
    {
     "data": {
      "text/plain": [
       "5.0"
      ]
     },
     "execution_count": 132,
     "metadata": {},
     "output_type": "execute_result"
    }
   ],
   "source": [
    "10/2"
   ]
  },
  {
   "cell_type": "code",
   "execution_count": 133,
   "id": "b341975b",
   "metadata": {},
   "outputs": [
    {
     "data": {
      "text/plain": [
       "0"
      ]
     },
     "execution_count": 133,
     "metadata": {},
     "output_type": "execute_result"
    }
   ],
   "source": [
    "10%2"
   ]
  },
  {
   "cell_type": "code",
   "execution_count": 134,
   "id": "a735daef",
   "metadata": {},
   "outputs": [
    {
     "data": {
      "text/plain": [
       "0.2999999999999998"
      ]
     },
     "execution_count": 134,
     "metadata": {},
     "output_type": "execute_result"
    }
   ],
   "source": [
    "3-2.7"
   ]
  },
  {
   "cell_type": "code",
   "execution_count": 135,
   "id": "df0ac28c",
   "metadata": {},
   "outputs": [
    {
     "data": {
      "text/plain": [
       "0.3"
      ]
     },
     "execution_count": 135,
     "metadata": {},
     "output_type": "execute_result"
    }
   ],
   "source": [
    "round(3-2.7,2)"
   ]
  },
  {
   "cell_type": "code",
   "execution_count": 136,
   "id": "76b57a86",
   "metadata": {},
   "outputs": [],
   "source": [
    "a=2/3"
   ]
  },
  {
   "cell_type": "code",
   "execution_count": 137,
   "id": "5f1e3385",
   "metadata": {},
   "outputs": [
    {
     "data": {
      "text/plain": [
       "0.67"
      ]
     },
     "execution_count": 137,
     "metadata": {},
     "output_type": "execute_result"
    }
   ],
   "source": [
    "round(a,2)"
   ]
  },
  {
   "cell_type": "code",
   "execution_count": 138,
   "id": "71b56507",
   "metadata": {},
   "outputs": [
    {
     "data": {
      "text/plain": [
       "100"
      ]
     },
     "execution_count": 138,
     "metadata": {},
     "output_type": "execute_result"
    }
   ],
   "source": [
    "#10 to the power of2\n",
    "10**2"
   ]
  },
  {
   "cell_type": "code",
   "execution_count": 139,
   "id": "6931a54c",
   "metadata": {},
   "outputs": [
    {
     "data": {
      "text/plain": [
       "'strstrstrstrstrstrstrstrstrstr'"
      ]
     },
     "execution_count": 139,
     "metadata": {},
     "output_type": "execute_result"
    }
   ],
   "source": [
    "10*'str'"
   ]
  },
  {
   "cell_type": "code",
   "execution_count": 140,
   "id": "adeeb70d",
   "metadata": {},
   "outputs": [
    {
     "data": {
      "text/plain": [
       "int"
      ]
     },
     "execution_count": 140,
     "metadata": {},
     "output_type": "execute_result"
    }
   ],
   "source": [
    "#type is an inbuilt function to check the data type of any value\n",
    "type(1)"
   ]
  },
  {
   "cell_type": "code",
   "execution_count": 141,
   "id": "8733d5f5",
   "metadata": {},
   "outputs": [
    {
     "data": {
      "text/plain": [
       "bool"
      ]
     },
     "execution_count": 141,
     "metadata": {},
     "output_type": "execute_result"
    }
   ],
   "source": [
    "type(True)"
   ]
  },
  {
   "cell_type": "code",
   "execution_count": 142,
   "id": "4b89c378",
   "metadata": {},
   "outputs": [
    {
     "data": {
      "text/plain": [
       "str"
      ]
     },
     "execution_count": 142,
     "metadata": {},
     "output_type": "execute_result"
    }
   ],
   "source": [
    "type(\"Hello\")"
   ]
  },
  {
   "cell_type": "markdown",
   "id": "4b61a088",
   "metadata": {},
   "source": [
    "## Strings\n",
    "\n",
    "Strings are arrays of bytes representing Unicode characters.\n",
    "\n",
    "Python does not have a character data type, a single character is simply a string with a length of 1.\n",
    "\n",
    "Square brackets can be used to access elements of the string.\n",
    "\n",
    "Indexing allows negative address references to access the characters from the back of the string\n",
    "\n",
    "-1 : last character\n",
    "\n",
    "While accessing an index out of the range will cause an IndexError. \n",
    "\n",
    "Only Integers are allowed to be passed as an index, float or other types that will cause a TypeError."
   ]
  },
  {
   "cell_type": "code",
   "execution_count": 213,
   "id": "fff83a0e",
   "metadata": {},
   "outputs": [
    {
     "name": "stdout",
     "output_type": "stream",
     "text": [
      "String with the use of single quotes :  Welcome\n",
      "String with the use of double quotes :  Welcome\n",
      "String using triple quotes :  I'm a Geek and I live in a world of Geek's \n"
     ]
    }
   ],
   "source": [
    "# Single quote\n",
    "string = 'Welcome'\n",
    "print(\"String with the use of single quotes : \", end = \" \")\n",
    "print(string)\n",
    "\n",
    "# Double quote\n",
    "string = \"Welcome\"\n",
    "print(\"String with the use of double quotes : \", end = \" \")\n",
    "print(string)\n",
    "\n",
    "# Triple quote\n",
    "string = '''I'm a Geek and I live in a world of Geek's '''\n",
    "print(\"String using triple quotes : \", end = \" \")\n",
    "print(string)\n"
   ]
  },
  {
   "cell_type": "code",
   "execution_count": 215,
   "id": "50eb47bd",
   "metadata": {},
   "outputs": [
    {
     "data": {
      "text/plain": [
       "str"
      ]
     },
     "execution_count": 215,
     "metadata": {},
     "output_type": "execute_result"
    }
   ],
   "source": [
    "type('Hello')"
   ]
  },
  {
   "cell_type": "code",
   "execution_count": 216,
   "id": "038b0c0f",
   "metadata": {},
   "outputs": [],
   "source": [
    "text='ice cream'"
   ]
  },
  {
   "cell_type": "code",
   "execution_count": 218,
   "id": "a59b4032",
   "metadata": {},
   "outputs": [
    {
     "data": {
      "text/plain": [
       "'c'"
      ]
     },
     "execution_count": 218,
     "metadata": {},
     "output_type": "execute_result"
    }
   ],
   "source": [
    "text[1]"
   ]
  },
  {
   "cell_type": "code",
   "execution_count": 219,
   "id": "8af410cf",
   "metadata": {},
   "outputs": [
    {
     "ename": "TypeError",
     "evalue": "'str' object does not support item assignment",
     "output_type": "error",
     "traceback": [
      "\u001b[0;31m---------------------------------------------------------------------------\u001b[0m",
      "\u001b[0;31mTypeError\u001b[0m                                 Traceback (most recent call last)",
      "Cell \u001b[0;32mIn[219], line 1\u001b[0m\n\u001b[0;32m----> 1\u001b[0m text[\u001b[38;5;241m0\u001b[39m]\u001b[38;5;241m=\u001b[39m\u001b[38;5;124m'\u001b[39m\u001b[38;5;124mg\u001b[39m\u001b[38;5;124m'\u001b[39m\n",
      "\u001b[0;31mTypeError\u001b[0m: 'str' object does not support item assignment"
     ]
    }
   ],
   "source": [
    "text[0]='g'"
   ]
  },
  {
   "cell_type": "code",
   "execution_count": 221,
   "id": "761769c0",
   "metadata": {},
   "outputs": [],
   "source": [
    "s='Total states'\n",
    "n=24"
   ]
  },
  {
   "cell_type": "code",
   "execution_count": 223,
   "id": "2447797a",
   "metadata": {},
   "outputs": [
    {
     "ename": "TypeError",
     "evalue": "can only concatenate str (not \"int\") to str",
     "output_type": "error",
     "traceback": [
      "\u001b[0;31m---------------------------------------------------------------------------\u001b[0m",
      "\u001b[0;31mTypeError\u001b[0m                                 Traceback (most recent call last)",
      "Cell \u001b[0;32mIn[223], line 1\u001b[0m\n\u001b[0;32m----> 1\u001b[0m s\u001b[38;5;241m+\u001b[39mn\n",
      "\u001b[0;31mTypeError\u001b[0m: can only concatenate str (not \"int\") to str"
     ]
    }
   ],
   "source": [
    "s+n"
   ]
  },
  {
   "cell_type": "code",
   "execution_count": 225,
   "id": "37264e4f",
   "metadata": {},
   "outputs": [
    {
     "ename": "TypeError",
     "evalue": "'str' object is not callable",
     "output_type": "error",
     "traceback": [
      "\u001b[0;31m---------------------------------------------------------------------------\u001b[0m",
      "\u001b[0;31mTypeError\u001b[0m                                 Traceback (most recent call last)",
      "Cell \u001b[0;32mIn[225], line 3\u001b[0m\n\u001b[1;32m      1\u001b[0m s\u001b[38;5;241m=\u001b[39m\u001b[38;5;124m'\u001b[39m\u001b[38;5;124mTotal states\u001b[39m\u001b[38;5;124m'\u001b[39m\n\u001b[1;32m      2\u001b[0m n\u001b[38;5;241m=\u001b[39m\u001b[38;5;241m24\u001b[39m\n\u001b[0;32m----> 3\u001b[0m \u001b[38;5;28mprint\u001b[39m(s \u001b[38;5;241m+\u001b[39m \u001b[38;5;124m'\u001b[39m\u001b[38;5;124m \u001b[39m\u001b[38;5;124m'\u001b[39m \u001b[38;5;241m+\u001b[39m \u001b[38;5;28mstr\u001b[39m(n))\n",
      "\u001b[0;31mTypeError\u001b[0m: 'str' object is not callable"
     ]
    }
   ],
   "source": [
    "s='Total states'\n",
    "n=24\n",
    "print(s + ' ' + str(n))\n"
   ]
  },
  {
   "cell_type": "markdown",
   "id": "52dde0fe-fed9-47cf-a9e9-140b594f509d",
   "metadata": {},
   "source": [
    "### String Slicing"
   ]
  },
  {
   "cell_type": "code",
   "execution_count": 228,
   "id": "89b10404-aa93-4618-a79a-8121ef80674c",
   "metadata": {},
   "outputs": [],
   "source": [
    "s1 = \"Learning Python\""
   ]
  },
  {
   "cell_type": "code",
   "execution_count": 230,
   "id": "f221b24e-8b7e-453d-a95a-de3e9b80be0e",
   "metadata": {},
   "outputs": [
    {
     "data": {
      "text/plain": [
       "'Learning'"
      ]
     },
     "execution_count": 230,
     "metadata": {},
     "output_type": "execute_result"
    }
   ],
   "source": [
    "s1[0:8]"
   ]
  },
  {
   "cell_type": "code",
   "execution_count": 232,
   "id": "c3faee33-2235-4710-a89d-5dc692cad3d4",
   "metadata": {},
   "outputs": [
    {
     "data": {
      "text/plain": [
       "'Python'"
      ]
     },
     "execution_count": 232,
     "metadata": {},
     "output_type": "execute_result"
    }
   ],
   "source": [
    "s1[9:15]"
   ]
  },
  {
   "cell_type": "code",
   "execution_count": 234,
   "id": "fa7cff56-7d71-46df-b17c-28beae00c3f1",
   "metadata": {},
   "outputs": [
    {
     "data": {
      "text/plain": [
       "'n'"
      ]
     },
     "execution_count": 234,
     "metadata": {},
     "output_type": "execute_result"
    }
   ],
   "source": [
    "s1[-1]"
   ]
  },
  {
   "cell_type": "code",
   "execution_count": 235,
   "id": "35ee8b4c-3886-4d8e-a6c1-581a4319749f",
   "metadata": {},
   "outputs": [
    {
     "data": {
      "text/plain": [
       "'Python'"
      ]
     },
     "execution_count": 235,
     "metadata": {},
     "output_type": "execute_result"
    }
   ],
   "source": [
    "# Retrieve last six characters from the string\n",
    "s1[-6:]"
   ]
  },
  {
   "cell_type": "code",
   "execution_count": 237,
   "id": "17976f97-7baa-4976-b2e6-47fd6d5c47ac",
   "metadata": {},
   "outputs": [
    {
     "data": {
      "text/plain": [
       "'Learni'"
      ]
     },
     "execution_count": 237,
     "metadata": {},
     "output_type": "execute_result"
    }
   ],
   "source": [
    "# Retrieve first six characters from the string\n",
    "s1[:6]"
   ]
  },
  {
   "cell_type": "markdown",
   "id": "8c97d811-b35b-4afa-a579-1a7b0378b62b",
   "metadata": {},
   "source": [
    "### Update and Delete String\n",
    "\n",
    "Updation or deletion of characters from a String is not allowed. \n",
    "\n",
    "This will cause an error because item assignment or item deletion from a String is not supported. \n",
    "\n",
    "This is because **Strings are immutable,** hence elements of a String cannot be changed once it has been assigned."
   ]
  },
  {
   "cell_type": "code",
   "execution_count": 360,
   "id": "434e4df0-4420-4dab-9684-6f135f7ab49d",
   "metadata": {},
   "outputs": [
    {
     "data": {
      "text/plain": [
       "'Hello'"
      ]
     },
     "execution_count": 360,
     "metadata": {},
     "output_type": "execute_result"
    }
   ],
   "source": [
    "s1"
   ]
  },
  {
   "cell_type": "code",
   "execution_count": 361,
   "id": "b1df5def-2847-4524-a563-71007273f84a",
   "metadata": {},
   "outputs": [
    {
     "ename": "TypeError",
     "evalue": "'str' object does not support item assignment",
     "output_type": "error",
     "traceback": [
      "\u001b[0;31m---------------------------------------------------------------------------\u001b[0m",
      "\u001b[0;31mTypeError\u001b[0m                                 Traceback (most recent call last)",
      "Cell \u001b[0;32mIn[361], line 2\u001b[0m\n\u001b[1;32m      1\u001b[0m \u001b[38;5;66;03m# Strings are immuatable which means elements of a string can't be changed once they are created\u001b[39;00m\n\u001b[0;32m----> 2\u001b[0m s1[\u001b[38;5;241m9\u001b[39m:\u001b[38;5;241m15\u001b[39m] \u001b[38;5;241m=\u001b[39m \u001b[38;5;124m'\u001b[39m\u001b[38;5;124mJava\u001b[39m\u001b[38;5;124m'\u001b[39m\n",
      "\u001b[0;31mTypeError\u001b[0m: 'str' object does not support item assignment"
     ]
    }
   ],
   "source": [
    "# Strings are immuatable which means elements of a string can't be changed once they are created\n",
    "s1[9:15] = 'Java'"
   ]
  },
  {
   "cell_type": "code",
   "execution_count": 364,
   "id": "8d2728bf-9cf2-4829-866f-b60bd7b93877",
   "metadata": {},
   "outputs": [
    {
     "ename": "NameError",
     "evalue": "name 's1' is not defined",
     "output_type": "error",
     "traceback": [
      "\u001b[0;31m---------------------------------------------------------------------------\u001b[0m",
      "\u001b[0;31mNameError\u001b[0m                                 Traceback (most recent call last)",
      "Cell \u001b[0;32mIn[364], line 3\u001b[0m\n\u001b[1;32m      1\u001b[0m s1 \u001b[38;5;241m=\u001b[39m \u001b[38;5;124m\"\u001b[39m\u001b[38;5;124mHello\u001b[39m\u001b[38;5;124m\"\u001b[39m\n\u001b[1;32m      2\u001b[0m \u001b[38;5;28;01mdel\u001b[39;00m s1\n\u001b[0;32m----> 3\u001b[0m \u001b[38;5;28mprint\u001b[39m(s1)\n",
      "\u001b[0;31mNameError\u001b[0m: name 's1' is not defined"
     ]
    }
   ],
   "source": [
    "s1 = \"Hello\"\n",
    "del s1\n",
    "print(s1)"
   ]
  },
  {
   "cell_type": "markdown",
   "id": "197ad7b0-a281-4cdf-a5fc-289346ac5a02",
   "metadata": {},
   "source": [
    "### String Concatenation"
   ]
  },
  {
   "cell_type": "code",
   "execution_count": 367,
   "id": "d7c946a3-b079-472a-9080-68c29860a018",
   "metadata": {},
   "outputs": [
    {
     "name": "stdout",
     "output_type": "stream",
     "text": [
      "HelloWorld\n"
     ]
    }
   ],
   "source": [
    "s1 = \"Hello\"\n",
    "s2 = \"World\"\n",
    "s3 = s1 + s2\n",
    "print(s3)"
   ]
  },
  {
   "cell_type": "code",
   "execution_count": 250,
   "id": "3a3c532c-2faa-47e4-9678-fbb77728c8d0",
   "metadata": {},
   "outputs": [
    {
     "name": "stdout",
     "output_type": "stream",
     "text": [
      "Hello World\n"
     ]
    }
   ],
   "source": [
    "s1 = \"Hello\"\n",
    "s2 = \"World\"\n",
    "s3 = s1 + \" \" + s2\n",
    "print(s3)"
   ]
  },
  {
   "cell_type": "code",
   "execution_count": 373,
   "id": "a4b341e4-9044-473b-980d-ae0e69aa079e",
   "metadata": {},
   "outputs": [
    {
     "name": "stdout",
     "output_type": "stream",
     "text": [
      "['This', 'is', 'a', 'sentence', 'with', 'multiple', 'spaces.']\n",
      "This is a sentence with multiple spaces.\n"
     ]
    }
   ],
   "source": [
    "sentence = \"This  is   a sentence    with multiple    spaces.\"\n",
    "words_list = sentence.split()\n",
    "print(words_list)\n",
    "\n",
    "single_spaced_sentence = ' '.join(words_list) # notice there is a space between ''. if there is no space then it will join without space\n",
    "print(single_spaced_sentence)"
   ]
  },
  {
   "cell_type": "markdown",
   "id": "9c30e3e6-738a-433e-be62-a71d4528730a",
   "metadata": {},
   "source": [
    "### Iterating through a String\n"
   ]
  },
  {
   "cell_type": "code",
   "execution_count": 253,
   "id": "098e6a9a-f094-4f83-bc86-043bee89e548",
   "metadata": {},
   "outputs": [],
   "source": [
    "str = \"abcd\""
   ]
  },
  {
   "cell_type": "code",
   "execution_count": 255,
   "id": "3d2ffe69-f316-434e-a6cc-d1fa5a14cc56",
   "metadata": {},
   "outputs": [
    {
     "name": "stdout",
     "output_type": "stream",
     "text": [
      "a\n",
      "b\n",
      "c\n",
      "d\n"
     ]
    }
   ],
   "source": [
    "for s in str:\n",
    "    print(s) "
   ]
  },
  {
   "cell_type": "code",
   "execution_count": 256,
   "id": "06c1c254-ca01-43f4-b1b4-b819382be072",
   "metadata": {},
   "outputs": [
    {
     "name": "stdout",
     "output_type": "stream",
     "text": [
      "(0, 'a')\n",
      "(1, 'b')\n",
      "(2, 'c')\n",
      "(3, 'd')\n"
     ]
    }
   ],
   "source": [
    "for s in enumerate(str):\n",
    "    print(s)"
   ]
  },
  {
   "cell_type": "code",
   "execution_count": 258,
   "id": "d09361e2-f4cd-4bdd-b454-986e055c377c",
   "metadata": {},
   "outputs": [
    {
     "data": {
      "text/plain": [
       "[(0, 'a'), (1, 'b'), (2, 'c'), (3, 'd')]"
      ]
     },
     "execution_count": 258,
     "metadata": {},
     "output_type": "execute_result"
    }
   ],
   "source": [
    "list(enumerate(str))"
   ]
  },
  {
   "cell_type": "code",
   "execution_count": 261,
   "id": "fe43959b-f19d-49ac-a366-326448f924ab",
   "metadata": {},
   "outputs": [
    {
     "name": "stdout",
     "output_type": "stream",
     "text": [
      "True\n"
     ]
    }
   ],
   "source": [
    "str = \"Hello World\"\n",
    "print(\"Hello\" in str)"
   ]
  },
  {
   "cell_type": "markdown",
   "id": "ec54a8d7-5ab5-4202-a7a4-cfee1ecb030a",
   "metadata": {},
   "source": [
    "### String partitioning"
   ]
  },
  {
   "cell_type": "code",
   "execution_count": 264,
   "id": "82432fa6-01e2-4b4e-96f6-5162841132dd",
   "metadata": {},
   "outputs": [
    {
     "name": "stdout",
     "output_type": "stream",
     "text": [
      "('Salt ', 'and', ' Sugar and Pepper')\n"
     ]
    }
   ],
   "source": [
    "# Searches for the first occurence in specified string and split into parts using that \n",
    "str = \"Salt and Sugar and Pepper\"\n",
    "print(str.partition(\"and\"))"
   ]
  },
  {
   "cell_type": "code",
   "execution_count": 266,
   "id": "f6ffcb90-cb29-4a9f-9910-cc2c63a39f85",
   "metadata": {},
   "outputs": [
    {
     "name": "stdout",
     "output_type": "stream",
     "text": [
      "('Salt and Sugar ', 'and', ' Pepper')\n"
     ]
    }
   ],
   "source": [
    "str = \"Salt and Sugar and Pepper\"\n",
    "print(str.rpartition(\"and\"))"
   ]
  },
  {
   "cell_type": "markdown",
   "id": "ae4fafa3-e190-45ac-b30f-d8feafcdb1f8",
   "metadata": {},
   "source": [
    "### String Functions"
   ]
  },
  {
   "cell_type": "code",
   "execution_count": 270,
   "id": "317ab5d8-8a4d-4dd7-9a15-d16599eb85d4",
   "metadata": {},
   "outputs": [],
   "source": [
    "str = \"          Hello World           \""
   ]
  },
  {
   "cell_type": "code",
   "execution_count": 271,
   "id": "61c81628-41ab-42b4-9af3-7cee4daf544b",
   "metadata": {},
   "outputs": [
    {
     "data": {
      "text/plain": [
       "'Hello World'"
      ]
     },
     "execution_count": 271,
     "metadata": {},
     "output_type": "execute_result"
    }
   ],
   "source": [
    "# Remove white spaces from beginning and end\n",
    "str.strip()"
   ]
  },
  {
   "cell_type": "code",
   "execution_count": 273,
   "id": "1a25e04d-0dfb-4b0f-9b1d-d48c067a7738",
   "metadata": {},
   "outputs": [
    {
     "data": {
      "text/plain": [
       "'          Hello World'"
      ]
     },
     "execution_count": 273,
     "metadata": {},
     "output_type": "execute_result"
    }
   ],
   "source": [
    "# Remove all white spaces from the end\n",
    "str.rstrip()"
   ]
  },
  {
   "cell_type": "code",
   "execution_count": 275,
   "id": "3017f3ab-d80f-48b4-9124-8aa99ac1e5a2",
   "metadata": {},
   "outputs": [
    {
     "data": {
      "text/plain": [
       "'Hello World           '"
      ]
     },
     "execution_count": 275,
     "metadata": {},
     "output_type": "execute_result"
    }
   ],
   "source": [
    "# Remove all white spaces from the beginnning\n",
    "str.lstrip()"
   ]
  },
  {
   "cell_type": "code",
   "execution_count": 277,
   "id": "bf936029-79da-45a7-8bac-b0da1fb5ada2",
   "metadata": {},
   "outputs": [],
   "source": [
    "str = \"^^^^^^^^^^^^^^^^^^^^Hello World^^^^^^^^^^^^^\""
   ]
  },
  {
   "cell_type": "code",
   "execution_count": 278,
   "id": "3024cb85-0b25-495e-929d-20a77eed1196",
   "metadata": {},
   "outputs": [
    {
     "data": {
      "text/plain": [
       "'Hello World'"
      ]
     },
     "execution_count": 278,
     "metadata": {},
     "output_type": "execute_result"
    }
   ],
   "source": [
    "str.strip('^')"
   ]
  },
  {
   "cell_type": "code",
   "execution_count": 280,
   "id": "1a62629e-9815-4978-a3d0-0ed742a13c2f",
   "metadata": {},
   "outputs": [
    {
     "data": {
      "text/plain": [
       "'^^^^^^^^^^^^^^^^^^^^Hello World'"
      ]
     },
     "execution_count": 280,
     "metadata": {},
     "output_type": "execute_result"
    }
   ],
   "source": [
    "str.rstrip('^')"
   ]
  },
  {
   "cell_type": "code",
   "execution_count": 283,
   "id": "7d95f941-75e6-483b-a316-b767c5862eca",
   "metadata": {},
   "outputs": [
    {
     "data": {
      "text/plain": [
       "'Hello World^^^^^^^^^^^^^'"
      ]
     },
     "execution_count": 283,
     "metadata": {},
     "output_type": "execute_result"
    }
   ],
   "source": [
    "str.lstrip('^')"
   ]
  },
  {
   "cell_type": "code",
   "execution_count": 285,
   "id": "947cd1a3-3cb6-46d9-ba41-8ff6a276da4e",
   "metadata": {},
   "outputs": [],
   "source": [
    "str = \"Hello World\""
   ]
  },
  {
   "cell_type": "code",
   "execution_count": 286,
   "id": "29d53a58-b6f7-4e88-8c0b-063cf9b2ff4c",
   "metadata": {},
   "outputs": [
    {
     "data": {
      "text/plain": [
       "'hello world'"
      ]
     },
     "execution_count": 286,
     "metadata": {},
     "output_type": "execute_result"
    }
   ],
   "source": [
    "str.lower()"
   ]
  },
  {
   "cell_type": "code",
   "execution_count": 288,
   "id": "3bc05448-ab34-4ff9-b986-443d3ef79646",
   "metadata": {},
   "outputs": [
    {
     "data": {
      "text/plain": [
       "'HELLO WORLD'"
      ]
     },
     "execution_count": 288,
     "metadata": {},
     "output_type": "execute_result"
    }
   ],
   "source": [
    "str.upper()"
   ]
  },
  {
   "cell_type": "code",
   "execution_count": 291,
   "id": "8ad0f50b-4fd9-4651-8586-7bad9164745c",
   "metadata": {},
   "outputs": [
    {
     "data": {
      "text/plain": [
       "'Hello Everyone'"
      ]
     },
     "execution_count": 291,
     "metadata": {},
     "output_type": "execute_result"
    }
   ],
   "source": [
    "str.replace(\"World\", \"Everyone\")"
   ]
  },
  {
   "cell_type": "code",
   "execution_count": 293,
   "id": "1008cd20-47d9-4e28-ad64-0c2b8ed46abf",
   "metadata": {},
   "outputs": [
    {
     "data": {
      "text/plain": [
       "'HelloWorld'"
      ]
     },
     "execution_count": 293,
     "metadata": {},
     "output_type": "execute_result"
    }
   ],
   "source": [
    "str.replace(\" \", \"\")"
   ]
  },
  {
   "cell_type": "code",
   "execution_count": 294,
   "id": "a89bf396-9bd0-4bbe-9349-4ee78ef6c507",
   "metadata": {},
   "outputs": [],
   "source": [
    "str = \"Hello Hello Hellow everyone Hello\""
   ]
  },
  {
   "cell_type": "code",
   "execution_count": 296,
   "id": "579cf52d-14de-467c-909f-81408e9e6dad",
   "metadata": {},
   "outputs": [
    {
     "data": {
      "text/plain": [
       "4"
      ]
     },
     "execution_count": 296,
     "metadata": {},
     "output_type": "execute_result"
    }
   ],
   "source": [
    "str.count(\"Hello\")"
   ]
  },
  {
   "cell_type": "code",
   "execution_count": 299,
   "id": "f416b6ce-34f6-454e-9932-26d00d13e0bd",
   "metadata": {},
   "outputs": [
    {
     "data": {
      "text/plain": [
       "True"
      ]
     },
     "execution_count": 299,
     "metadata": {},
     "output_type": "execute_result"
    }
   ],
   "source": [
    "str.startswith(\"Hello\")"
   ]
  },
  {
   "cell_type": "code",
   "execution_count": 301,
   "id": "c65e02a7-0a86-4f6e-b306-dda76423fb48",
   "metadata": {},
   "outputs": [
    {
     "data": {
      "text/plain": [
       "True"
      ]
     },
     "execution_count": 301,
     "metadata": {},
     "output_type": "execute_result"
    }
   ],
   "source": [
    "str.endswith(\"Hello\")"
   ]
  },
  {
   "cell_type": "code",
   "execution_count": 302,
   "id": "9f719517-247c-480f-be3d-60cac5dc4d92",
   "metadata": {},
   "outputs": [
    {
     "data": {
      "text/plain": [
       "False"
      ]
     },
     "execution_count": 302,
     "metadata": {},
     "output_type": "execute_result"
    }
   ],
   "source": [
    "str.endswith(\"Hell\")"
   ]
  },
  {
   "cell_type": "code",
   "execution_count": 304,
   "id": "e7b54abb-244a-400b-af6c-0e1d93aa3165",
   "metadata": {},
   "outputs": [
    {
     "name": "stdout",
     "output_type": "stream",
     "text": [
      "['Hello', 'Hello', 'Hellow', 'everyone', 'Hello']\n"
     ]
    }
   ],
   "source": [
    "string_list = str.split()\n",
    "print(string_list)"
   ]
  },
  {
   "cell_type": "code",
   "execution_count": 352,
   "id": "1d49f6e9-cf10-4c49-8eab-caebaa9c4cb7",
   "metadata": {},
   "outputs": [],
   "source": [
    "### String formatting"
   ]
  },
  {
   "cell_type": "code",
   "execution_count": 307,
   "id": "47048adc-08b4-4165-86d3-67687499a2b7",
   "metadata": {},
   "outputs": [
    {
     "name": "stdout",
     "output_type": "stream",
     "text": [
      "We bought 5 apples at $0.42 each.\n"
     ]
    }
   ],
   "source": [
    "# Positional Formatting\n",
    "# Example of positional formatting\n",
    "fruit = \"apple\"\n",
    "quantity = 5\n",
    "price_per_unit = 0.42\n",
    "\n",
    "message = \"We bought {} {}s at ${} each.\"\n",
    "print(message.format(quantity, fruit, price_per_unit))\n"
   ]
  },
  {
   "cell_type": "code",
   "execution_count": 309,
   "id": "ec93b617-d9e5-468f-89b1-1e5c73796e9c",
   "metadata": {},
   "outputs": [
    {
     "name": "stdout",
     "output_type": "stream",
     "text": [
      "Total cost: $0.55. Bought 10 oranges at $0.55 each.\n"
     ]
    }
   ],
   "source": [
    "# Indexed Positional formatting\n",
    "# Example of indexed positional formatting\n",
    "fruit = \"orange\"\n",
    "quantity = 10\n",
    "price_per_unit = 0.55\n",
    "\n",
    "message = \"Total cost: ${2}. Bought {0} {1}s at ${2} each.\"\n",
    "print(message.format(quantity, fruit, price_per_unit))\n"
   ]
  },
  {
   "cell_type": "code",
   "execution_count": 310,
   "id": "5fbe9b8d-78ad-4492-8bcd-ea8a7baa9bb8",
   "metadata": {},
   "outputs": [
    {
     "name": "stdout",
     "output_type": "stream",
     "text": [
      "In the West region, total sales were $12000 with a profit of $4500.\n"
     ]
    }
   ],
   "source": [
    "# Using named placeholders\n",
    "# Named placeholders with format method\n",
    "total_sales = 12000\n",
    "profit = 4500\n",
    "region = \"West\"\n",
    "\n",
    "report = \"In the {region} region, total sales were ${sales} with a profit of ${profit}.\"\n",
    "print(report.format(region=region, sales=total_sales, profit=profit))"
   ]
  },
  {
   "cell_type": "code",
   "execution_count": 354,
   "id": "50830355-4b68-4747-a572-3ac3368c9d14",
   "metadata": {},
   "outputs": [
    {
     "name": "stdout",
     "output_type": "stream",
     "text": [
      "\n",
      "Binary representation of 16 is \n",
      "10000\n",
      "\n",
      "Exponent representation of 165.6458 is \n",
      "1.656458e+02\n",
      "\n",
      "one-sixth is : \n",
      "0.17\n"
     ]
    }
   ],
   "source": [
    "String1 = \"{0:b}\".format(16)\n",
    "print(\"\\nBinary representation of 16 is \")\n",
    "print(String1)\n",
    " \n",
    "# Formatting of Floats\n",
    "String1 = \"{0:e}\".format(165.6458)\n",
    "print(\"\\nExponent representation of 165.6458 is \")\n",
    "print(String1)\n",
    " \n",
    "# Rounding off Integers\n",
    "String1 = \"{0:.2f}\".format(1/6)\n",
    "print(\"\\none-sixth is : \")\n",
    "print(String1)"
   ]
  },
  {
   "cell_type": "code",
   "execution_count": 312,
   "id": "340d9edf-f395-4750-a53d-70aafd57044d",
   "metadata": {},
   "outputs": [
    {
     "data": {
      "text/plain": [
       "19"
      ]
     },
     "execution_count": 312,
     "metadata": {},
     "output_type": "execute_result"
    }
   ],
   "source": [
    "# Find the location of word\n",
    "str = \"one two three four five six seven\"\n",
    "str.find(\"five\")"
   ]
  },
  {
   "cell_type": "code",
   "execution_count": 315,
   "id": "cd19cfb9-f0b4-44c0-bb5b-b2861c4238ce",
   "metadata": {},
   "outputs": [
    {
     "data": {
      "text/plain": [
       "34"
      ]
     },
     "execution_count": 315,
     "metadata": {},
     "output_type": "execute_result"
    }
   ],
   "source": [
    "# Find the location of word\n",
    "str = \"one two three four five six seven five\"\n",
    "str.rfind(\"five\")"
   ]
  },
  {
   "cell_type": "code",
   "execution_count": 317,
   "id": "3bed9236-8533-4426-ab4b-ddb4082be7b3",
   "metadata": {},
   "outputs": [
    {
     "data": {
      "text/plain": [
       "19"
      ]
     },
     "execution_count": 317,
     "metadata": {},
     "output_type": "execute_result"
    }
   ],
   "source": [
    "# Find the location of word\n",
    "str = \"one two three four five six seven\"\n",
    "str.index(\"five\")"
   ]
  },
  {
   "cell_type": "code",
   "execution_count": 319,
   "id": "9f024ec4-9675-4da9-8b02-69b4b796d84d",
   "metadata": {},
   "outputs": [
    {
     "data": {
      "text/plain": [
       "34"
      ]
     },
     "execution_count": 319,
     "metadata": {},
     "output_type": "execute_result"
    }
   ],
   "source": [
    "# Find the location of word\n",
    "str = \"one two three four five six seven five\"\n",
    "str.rindex(\"five\")"
   ]
  },
  {
   "cell_type": "code",
   "execution_count": 320,
   "id": "27ac4ca2-61c0-4e92-a2a9-93c4d397e0ce",
   "metadata": {},
   "outputs": [
    {
     "name": "stdout",
     "output_type": "stream",
     "text": [
      "False\n",
      "True\n",
      "True\n",
      "True\n"
     ]
    }
   ],
   "source": [
    "str = '123456789'\n",
    "\n",
    "# returns True if all the characters in the text are letters\n",
    "print(str.isalpha()) \n",
    "\n",
    "# returns True if a string contains only letters or numbers\n",
    "print(str.isalnum()) \n",
    "\n",
    "# returns True if all the characters are decimals (0-9)\n",
    "print(str.isdecimal()) \n",
    "\n",
    "# returns True if all the characters are numeric (0-9)st\n",
    "print(str.isnumeric()) "
   ]
  },
  {
   "cell_type": "code",
   "execution_count": 323,
   "id": "0e7a6370-30e8-47ae-a2ef-96ba6a76ebd4",
   "metadata": {},
   "outputs": [
    {
     "name": "stdout",
     "output_type": "stream",
     "text": [
      "True\n"
     ]
    }
   ],
   "source": [
    "str = \"abcdffddaf\"\n",
    "print(str.isalnum()) "
   ]
  },
  {
   "cell_type": "code",
   "execution_count": 325,
   "id": "731a878a-3041-49a2-bbe7-523493a4755d",
   "metadata": {},
   "outputs": [
    {
     "name": "stdout",
     "output_type": "stream",
     "text": [
      "True\n",
      "False\n"
     ]
    }
   ],
   "source": [
    "str = \"AHKJHKHL\"\n",
    "print(str.isupper())\n",
    "print(str.islower())"
   ]
  },
  {
   "cell_type": "markdown",
   "id": "65bff73d-e7fc-440c-af59-125dcb42bc98",
   "metadata": {},
   "source": [
    "### Escape Sequence\n",
    "\n",
    "While printing Strings with single and double quotes in it causes **SyntaxError** because String already contains Single and Double Quotes and hence cannot be printed with the use of either of these. \n",
    "\n",
    "Hence, to print such a String either Triple Quotes are used or Escape sequences are used to print such Strings.\n",
    "\n",
    "**Escape sequences start with a backslash and can be interpreted differently.** \n",
    "\n",
    "If single quotes are used to represent a string, then all the single quotes present in the string must be escaped and same is done for Double Quotes."
   ]
  },
  {
   "cell_type": "code",
   "execution_count": 328,
   "id": "2a73d524-bb20-413c-b187-f390c63928b2",
   "metadata": {},
   "outputs": [
    {
     "name": "stdout",
     "output_type": "stream",
     "text": [
      "The use of \"The\"\n"
     ]
    }
   ],
   "source": [
    "# Escape sequence\n",
    "str = \"The use of \\\"The\\\"\"\n",
    "print(str)"
   ]
  },
  {
   "cell_type": "code",
   "execution_count": 330,
   "id": "f29f1786-2a2a-4e78-acb1-731fc3885415",
   "metadata": {},
   "outputs": [],
   "source": [
    "# To ignore the escape sequences in a String, r or R is used, this implies \n",
    "#that the string is a raw string and escape sequences inside it are to be ignored."
   ]
  },
  {
   "cell_type": "code",
   "execution_count": 332,
   "id": "54b4189a-7e32-418d-963d-8a413f5ab555",
   "metadata": {},
   "outputs": [
    {
     "name": "stdout",
     "output_type": "stream",
     "text": [
      "\n",
      "Printing in HEX with the use of Escape Sequences: \n",
      "This is Geeks in HEX\n",
      "\n",
      "Printing Raw String in HEX Format: \n",
      "This is \\x47\\x65\\x65\\x6b\\x73 in \\x48\\x45\\x58\n"
     ]
    }
   ],
   "source": [
    "# Printing Geeks in HEX\n",
    "String1 = \"This is \\x47\\x65\\x65\\x6b\\x73 in \\x48\\x45\\x58\"\n",
    "print(\"\\nPrinting in HEX with the use of Escape Sequences: \")\n",
    "print(String1)\n",
    " \n",
    "# Using raw String to\n",
    "# ignore Escape Sequences\n",
    "String1 = r\"This is \\x47\\x65\\x65\\x6b\\x73 in \\x48\\x45\\x58\"\n",
    "print(\"\\nPrinting Raw String in HEX Format: \")\n",
    "print(String1)\n"
   ]
  },
  {
   "cell_type": "code",
   "execution_count": 358,
   "id": "f977d970-9736-4f7c-b03b-b2c1854cafcf",
   "metadata": {},
   "outputs": [
    {
     "name": "stdout",
     "output_type": "stream",
     "text": [
      "The Unicode code point of 'A' is: 65\n"
     ]
    }
   ],
   "source": [
    "# The ord function returns an integer representing the Unicode code point \n",
    "#of the given Unicode character.\n",
    "\n",
    "# Single Unicode character\n",
    "character = 'A'\n",
    "# Getting the Unicode code point of the character\n",
    "code_point = ord(character)\n",
    "\n",
    "print(f\"The Unicode code point of '{character}' is: {code_point}\")"
   ]
  },
  {
   "cell_type": "code",
   "execution_count": null,
   "id": "366c1c22-4cf3-4137-abdd-bd8f5a516960",
   "metadata": {},
   "outputs": [],
   "source": []
  },
  {
   "cell_type": "code",
   "execution_count": null,
   "id": "90c19059-9236-47b0-be23-c53bc101463f",
   "metadata": {},
   "outputs": [],
   "source": []
  },
  {
   "cell_type": "code",
   "execution_count": null,
   "id": "fdc86ecb-3530-4396-9975-d7340fe862fc",
   "metadata": {},
   "outputs": [],
   "source": []
  },
  {
   "cell_type": "markdown",
   "id": "3f7b41d4-c130-48d9-a077-b6c88738fb05",
   "metadata": {},
   "source": [
    "## Boolean\n",
    "can have 2 possible values true or false"
   ]
  },
  {
   "cell_type": "code",
   "execution_count": 340,
   "id": "62c80a1a-8536-43a2-a385-1181989b3b93",
   "metadata": {},
   "outputs": [],
   "source": [
    "b1 = True"
   ]
  },
  {
   "cell_type": "code",
   "execution_count": 341,
   "id": "3154655d-6f25-45fc-88af-6c2c318a0ac7",
   "metadata": {},
   "outputs": [],
   "source": [
    "b2 = False"
   ]
  },
  {
   "cell_type": "code",
   "execution_count": 342,
   "id": "207179dd-31e4-4f79-a990-e1e033da5828",
   "metadata": {},
   "outputs": [
    {
     "name": "stdout",
     "output_type": "stream",
     "text": [
      "<class 'bool'>\n"
     ]
    }
   ],
   "source": [
    "print(type(b1))"
   ]
  },
  {
   "cell_type": "code",
   "execution_count": 344,
   "id": "6fb107df-abd4-455b-9ea7-48d1fbec818a",
   "metadata": {},
   "outputs": [
    {
     "data": {
      "text/plain": [
       "True"
      ]
     },
     "execution_count": 344,
     "metadata": {},
     "output_type": "execute_result"
    }
   ],
   "source": [
    "isinstance(b1, bool)"
   ]
  },
  {
   "cell_type": "code",
   "execution_count": 347,
   "id": "f5b3dc0e-37dd-497b-b537-55b83a21005d",
   "metadata": {},
   "outputs": [
    {
     "data": {
      "text/plain": [
       "False"
      ]
     },
     "execution_count": 347,
     "metadata": {},
     "output_type": "execute_result"
    }
   ],
   "source": [
    "bool(0)"
   ]
  },
  {
   "cell_type": "code",
   "execution_count": 349,
   "id": "52b3cf68-0731-4cda-aff9-60726c586fea",
   "metadata": {},
   "outputs": [
    {
     "data": {
      "text/plain": [
       "True"
      ]
     },
     "execution_count": 349,
     "metadata": {},
     "output_type": "execute_result"
    }
   ],
   "source": [
    "bool(1)"
   ]
  },
  {
   "cell_type": "code",
   "execution_count": null,
   "id": "fbd6be10-de3e-4060-81c4-eb9f919ebf51",
   "metadata": {},
   "outputs": [],
   "source": [
    "bool(None)"
   ]
  },
  {
   "cell_type": "markdown",
   "id": "1fbe853d-ecfb-4017-aea8-957610ee3c56",
   "metadata": {},
   "source": [
    "# List\n",
    "\n",
    "holds a collection of items with a specific order\n",
    "\n",
    "List is an ordered sequence of items\n",
    "\n",
    "We can have different data types under a list. E.g we can have integer, float and string items in a same list.\n",
    "\n",
    "Keep in mind that a list is an iterable object which means that you can directly go through it without indices."
   ]
  },
  {
   "cell_type": "code",
   "execution_count": 385,
   "id": "f470bd1b",
   "metadata": {},
   "outputs": [
    {
     "name": "stdout",
     "output_type": "stream",
     "text": [
      "One of the elements of the list is '1'\n",
      "One of the elements of the list is '2'\n",
      "One of the elements of the list is '3'\n",
      "One of the elements of the list is '4'\n",
      "One of the elements of the list is '5'\n",
      "---------------------------------\n",
      "One of the elements of the list is '1'\n",
      "One of the elements of the list is '2'\n",
      "One of the elements of the list is '3'\n",
      "One of the elements of the list is '4'\n",
      "One of the elements of the list is '5'\n"
     ]
    }
   ],
   "source": [
    "# Will both output the same thing\n",
    "\n",
    "my_list = [1, 2, 3, 4, 5]\n",
    "for index in range(len(my_list)):\n",
    "  print(\"One of the elements of the list is '{}'\".format(my_list[index]))\n",
    "\n",
    "print(\"---------------------------------\")\n",
    "\n",
    "# we prefer the following in python:\n",
    "for element in my_list:\n",
    "  print(\"One of the elements of the list is '{}'\".format(element))"
   ]
  },
  {
   "cell_type": "markdown",
   "id": "d2ddaaf1-0f3c-4a97-bb19-fdb1b8113e88",
   "metadata": {},
   "source": [
    "### List creation"
   ]
  },
  {
   "cell_type": "code",
   "execution_count": 388,
   "id": "e1d4734c",
   "metadata": {},
   "outputs": [],
   "source": [
    "list1 = []"
   ]
  },
  {
   "cell_type": "code",
   "execution_count": 390,
   "id": "50b3ce31",
   "metadata": {},
   "outputs": [
    {
     "name": "stdout",
     "output_type": "stream",
     "text": [
      "<class 'list'>\n"
     ]
    }
   ],
   "source": [
    "print(type(list1))"
   ]
  },
  {
   "cell_type": "code",
   "execution_count": 392,
   "id": "742eb783",
   "metadata": {},
   "outputs": [],
   "source": [
    "# List of integers numbers\n",
    "list2 = [10,30,60] "
   ]
  },
  {
   "cell_type": "code",
   "execution_count": 394,
   "id": "9d10a116",
   "metadata": {},
   "outputs": [],
   "source": [
    "# List of float numbers\n",
    "list3 = [10.77,30.66,60.89] "
   ]
  },
  {
   "cell_type": "code",
   "execution_count": 396,
   "id": "cd94766f-a9d9-420e-9132-a7c18c6d4b86",
   "metadata": {},
   "outputs": [],
   "source": [
    "# List of strings\n",
    "list4 = ['one','two' , \"three\"] "
   ]
  },
  {
   "cell_type": "code",
   "execution_count": 398,
   "id": "12e402ec-0a61-4bcd-bd19-d2e4d0e6efb0",
   "metadata": {},
   "outputs": [],
   "source": [
    "# Nested Lists\n",
    "list5 = ['Asif', 25 ,[50, 100],[150, 90]] "
   ]
  },
  {
   "cell_type": "code",
   "execution_count": 400,
   "id": "2af14477-698e-4c9d-b449-adcbd4cdde9b",
   "metadata": {},
   "outputs": [],
   "source": [
    "# List of mixed data types\n",
    "list6 = [100, 'Asif', 17.765] "
   ]
  },
  {
   "cell_type": "code",
   "execution_count": 402,
   "id": "becc8e80-1135-4c5a-acbe-559e82f06c3e",
   "metadata": {},
   "outputs": [],
   "source": [
    "list7 = ['Asif', 25 ,[50, 100],[150, 90] , {'John' , 'David'}]"
   ]
  },
  {
   "cell_type": "code",
   "execution_count": 404,
   "id": "15b6628c-4e95-4cfc-957c-c841599baaa3",
   "metadata": {},
   "outputs": [
    {
     "data": {
      "text/plain": [
       "3"
      ]
     },
     "execution_count": 404,
     "metadata": {},
     "output_type": "execute_result"
    }
   ],
   "source": [
    "len(list6)"
   ]
  },
  {
   "cell_type": "markdown",
   "id": "ae966cc6-4bbf-4c3a-8457-008cb5984591",
   "metadata": {},
   "source": [
    "### List indexing"
   ]
  },
  {
   "cell_type": "code",
   "execution_count": 407,
   "id": "23e49bed-3fcc-4abd-8a94-853bed054269",
   "metadata": {},
   "outputs": [
    {
     "data": {
      "text/plain": [
       "10"
      ]
     },
     "execution_count": 407,
     "metadata": {},
     "output_type": "execute_result"
    }
   ],
   "source": [
    "list2[0]"
   ]
  },
  {
   "cell_type": "code",
   "execution_count": 411,
   "id": "ab190c66-b5eb-4bad-88d2-8db83b7483bf",
   "metadata": {},
   "outputs": [
    {
     "data": {
      "text/plain": [
       "'o'"
      ]
     },
     "execution_count": 411,
     "metadata": {},
     "output_type": "execute_result"
    }
   ],
   "source": [
    "list4[0][0]"
   ]
  },
  {
   "cell_type": "code",
   "execution_count": 413,
   "id": "77c41013-76b2-416f-bab9-ade03b64969a",
   "metadata": {},
   "outputs": [
    {
     "data": {
      "text/plain": [
       "'three'"
      ]
     },
     "execution_count": 413,
     "metadata": {},
     "output_type": "execute_result"
    }
   ],
   "source": [
    "list4[-1]"
   ]
  },
  {
   "cell_type": "code",
   "execution_count": 415,
   "id": "cb654939-1baa-4e7f-a9d9-0fb91c3bf8f2",
   "metadata": {},
   "outputs": [
    {
     "data": {
      "text/plain": [
       "[150, 90]"
      ]
     },
     "execution_count": 415,
     "metadata": {},
     "output_type": "execute_result"
    }
   ],
   "source": [
    "list5[-1]"
   ]
  },
  {
   "cell_type": "markdown",
   "id": "afc3f728-a2f3-4e5a-bc00-47a8bf8b55b7",
   "metadata": {},
   "source": [
    "### List slicing"
   ]
  },
  {
   "cell_type": "code",
   "execution_count": 418,
   "id": "f42cdc1e-8167-4c1d-a784-58499e73376e",
   "metadata": {},
   "outputs": [],
   "source": [
    "mylist = ['one' , 'two' , 'three' , 'four' , 'five' , 'six' , 'seven' , 'eight']"
   ]
  },
  {
   "cell_type": "code",
   "execution_count": 420,
   "id": "6a146e1c-450d-42a9-bcdc-07e1168b5711",
   "metadata": {},
   "outputs": [
    {
     "data": {
      "text/plain": [
       "['one', 'two', 'three']"
      ]
     },
     "execution_count": 420,
     "metadata": {},
     "output_type": "execute_result"
    }
   ],
   "source": [
    "mylist[0:3]"
   ]
  },
  {
   "cell_type": "code",
   "execution_count": 422,
   "id": "5c89823b-303d-43ae-b572-476d3af1d81e",
   "metadata": {},
   "outputs": [
    {
     "data": {
      "text/plain": [
       "['one', 'two', 'three']"
      ]
     },
     "execution_count": 422,
     "metadata": {},
     "output_type": "execute_result"
    }
   ],
   "source": [
    "mylist[:3] "
   ]
  },
  {
   "cell_type": "code",
   "execution_count": 424,
   "id": "b1fc6c2d-9fda-4970-8d8a-c453f7d77591",
   "metadata": {},
   "outputs": [
    {
     "data": {
      "text/plain": [
       "['six', 'seven', 'eight']"
      ]
     },
     "execution_count": 424,
     "metadata": {},
     "output_type": "execute_result"
    }
   ],
   "source": [
    "mylist[-3:]"
   ]
  },
  {
   "cell_type": "code",
   "execution_count": 426,
   "id": "fdda9ce8-63a2-465d-a715-f57fc02fc0f6",
   "metadata": {},
   "outputs": [
    {
     "data": {
      "text/plain": [
       "'eight'"
      ]
     },
     "execution_count": 426,
     "metadata": {},
     "output_type": "execute_result"
    }
   ],
   "source": [
    "mylist[-1]"
   ]
  },
  {
   "cell_type": "code",
   "execution_count": 428,
   "id": "2c940d32-aa8f-4302-b632-4b70f76fd800",
   "metadata": {},
   "outputs": [
    {
     "data": {
      "text/plain": [
       "['one', 'two', 'three', 'four', 'five', 'six', 'seven', 'eight']"
      ]
     },
     "execution_count": 428,
     "metadata": {},
     "output_type": "execute_result"
    }
   ],
   "source": [
    "mylist[:]"
   ]
  },
  {
   "cell_type": "markdown",
   "id": "3c1b3386-fbaa-431e-9012-f9807c404203",
   "metadata": {},
   "source": [
    "### Add , Remove & Change Items"
   ]
  },
  {
   "cell_type": "code",
   "execution_count": 433,
   "id": "abbe1280-f7ff-4222-b092-57ef16b9d288",
   "metadata": {},
   "outputs": [
    {
     "data": {
      "text/plain": [
       "['one', 'two', 'three', 'four', 'five', 'six', 'seven', 'eight']"
      ]
     },
     "execution_count": 433,
     "metadata": {},
     "output_type": "execute_result"
    }
   ],
   "source": [
    "mylist"
   ]
  },
  {
   "cell_type": "code",
   "execution_count": 435,
   "id": "bf1db811-cfe2-49e4-a83b-1648a318b3c1",
   "metadata": {},
   "outputs": [
    {
     "data": {
      "text/plain": [
       "['one', 'two', 'three', 'four', 'five', 'six', 'seven', 'eight', 'nine']"
      ]
     },
     "execution_count": 435,
     "metadata": {},
     "output_type": "execute_result"
    }
   ],
   "source": [
    "mylist.append('nine') # Add an item to the end of the list\n",
    "mylist"
   ]
  },
  {
   "cell_type": "code",
   "execution_count": 437,
   "id": "14f0db8c-6fdd-48d9-9bb2-ab9b236f0867",
   "metadata": {},
   "outputs": [
    {
     "data": {
      "text/plain": [
       "['one', 'two', 'three', 'four', 'five', 'six', 'seven', 'eight', 'nine', 'ten']"
      ]
     },
     "execution_count": 437,
     "metadata": {},
     "output_type": "execute_result"
    }
   ],
   "source": [
    "mylist.insert(9,'ten') # Add item at index location 9\n",
    "mylist"
   ]
  },
  {
   "cell_type": "code",
   "execution_count": 439,
   "id": "3e520577-b97b-48f3-a4ef-16ba1c3644b8",
   "metadata": {},
   "outputs": [
    {
     "data": {
      "text/plain": [
       "['one',\n",
       " 'ONE',\n",
       " 'two',\n",
       " 'three',\n",
       " 'four',\n",
       " 'five',\n",
       " 'six',\n",
       " 'seven',\n",
       " 'eight',\n",
       " 'nine',\n",
       " 'ten']"
      ]
     },
     "execution_count": 439,
     "metadata": {},
     "output_type": "execute_result"
    }
   ],
   "source": [
    "mylist.insert(1,'ONE') # Add item at index location 1\n",
    "mylist"
   ]
  },
  {
   "cell_type": "code",
   "execution_count": 441,
   "id": "c2827a59-218b-4f09-b2e6-5cbbb1719f27",
   "metadata": {},
   "outputs": [
    {
     "data": {
      "text/plain": [
       "['one', 'two', 'three', 'four', 'five', 'six', 'seven', 'eight', 'nine', 'ten']"
      ]
     },
     "execution_count": 441,
     "metadata": {},
     "output_type": "execute_result"
    }
   ],
   "source": [
    "mylist.remove('ONE') # Remove item \"ONE\"\n",
    "mylist"
   ]
  },
  {
   "cell_type": "code",
   "execution_count": 443,
   "id": "e298eb4f-19f8-450d-96cf-b4953f6ccf89",
   "metadata": {},
   "outputs": [
    {
     "data": {
      "text/plain": [
       "['one', 'two', 'three', 'four', 'five', 'six', 'seven', 'eight', 'nine']"
      ]
     },
     "execution_count": 443,
     "metadata": {},
     "output_type": "execute_result"
    }
   ],
   "source": [
    "mylist.pop() # Remove last item of the list\n",
    "mylist"
   ]
  },
  {
   "cell_type": "code",
   "execution_count": 445,
   "id": "f790f040-9fb4-45a5-a0e2-e345f818b84e",
   "metadata": {},
   "outputs": [
    {
     "data": {
      "text/plain": [
       "['one', 'two', 'three', 'four', 'five', 'six', 'seven', 'eight']"
      ]
     },
     "execution_count": 445,
     "metadata": {},
     "output_type": "execute_result"
    }
   ],
   "source": [
    "mylist.pop(8) # Remove item at index location 8\n",
    "mylist"
   ]
  },
  {
   "cell_type": "code",
   "execution_count": 447,
   "id": "2e8c399e-b502-4a6d-a5e9-94bb2bfdd85d",
   "metadata": {},
   "outputs": [
    {
     "data": {
      "text/plain": [
       "['one', 'two', 'three', 'four', 'five', 'six', 'seven']"
      ]
     },
     "execution_count": 447,
     "metadata": {},
     "output_type": "execute_result"
    }
   ],
   "source": [
    "del mylist[7] # Remove item at index location 7\n",
    "mylist"
   ]
  },
  {
   "cell_type": "code",
   "execution_count": 449,
   "id": "e5bfc0e3-7a1a-45ad-a254-78779e8c2fc9",
   "metadata": {},
   "outputs": [
    {
     "data": {
      "text/plain": [
       "[1, 2, 3, 'four', 'five', 'six', 'seven']"
      ]
     },
     "execution_count": 449,
     "metadata": {},
     "output_type": "execute_result"
    }
   ],
   "source": [
    "# Change value of the string\n",
    "mylist[0] = 1\n",
    "mylist[1] = 2\n",
    "mylist[2] = 3\n",
    "mylist"
   ]
  },
  {
   "cell_type": "code",
   "execution_count": 451,
   "id": "d975e58c-a563-4b82-acad-148746c3a2a7",
   "metadata": {},
   "outputs": [
    {
     "data": {
      "text/plain": [
       "[]"
      ]
     },
     "execution_count": 451,
     "metadata": {},
     "output_type": "execute_result"
    }
   ],
   "source": [
    "mylist.clear() # Empty List / Delete all items in the list\n",
    "mylist"
   ]
  },
  {
   "cell_type": "code",
   "execution_count": 455,
   "id": "8e99cbbf-4374-4caf-ab72-d3b8888229ad",
   "metadata": {},
   "outputs": [
    {
     "ename": "NameError",
     "evalue": "name 'mylist' is not defined",
     "output_type": "error",
     "traceback": [
      "\u001b[0;31m---------------------------------------------------------------------------\u001b[0m",
      "\u001b[0;31mNameError\u001b[0m                                 Traceback (most recent call last)",
      "Cell \u001b[0;32mIn[455], line 2\u001b[0m\n\u001b[1;32m      1\u001b[0m \u001b[38;5;66;03m# Delete the whole list\u001b[39;00m\n\u001b[0;32m----> 2\u001b[0m \u001b[38;5;28;01mdel\u001b[39;00m mylist \n\u001b[1;32m      3\u001b[0m mylist\n",
      "\u001b[0;31mNameError\u001b[0m: name 'mylist' is not defined"
     ]
    }
   ],
   "source": [
    "# Delete the whole list\n",
    "del mylist \n",
    "mylist"
   ]
  },
  {
   "cell_type": "markdown",
   "id": "9dd7c7c3-66b8-404a-a061-4513943533b8",
   "metadata": {},
   "source": [
    "### Copy List"
   ]
  },
  {
   "cell_type": "code",
   "execution_count": 458,
   "id": "ce5aa48c-a3c0-497b-b60b-6d857a281ba7",
   "metadata": {},
   "outputs": [],
   "source": [
    "mylist = ['one', 'two', 'three', 'four', 'five', 'six', 'seven']"
   ]
  },
  {
   "cell_type": "code",
   "execution_count": 460,
   "id": "b2385660-51f5-419e-9381-3352d7cd7f6f",
   "metadata": {},
   "outputs": [],
   "source": [
    "mylist1 = mylist # Create a new reference \"mylist1\""
   ]
  },
  {
   "cell_type": "code",
   "execution_count": 462,
   "id": "c0b4c3f4-ae2a-40fa-96ec-90beed9779d2",
   "metadata": {},
   "outputs": [
    {
     "data": {
      "text/plain": [
       "(140136829866368, 140136829866368)"
      ]
     },
     "execution_count": 462,
     "metadata": {},
     "output_type": "execute_result"
    }
   ],
   "source": [
    "id(mylist) , id(mylist1) # The address of both mylist & mylist1 will be the same"
   ]
  },
  {
   "cell_type": "code",
   "execution_count": 468,
   "id": "656f4a98-f599-4cbb-8ca6-5f865271c7e0",
   "metadata": {},
   "outputs": [],
   "source": [
    "mylist2 = mylist.copy() # Create a copy of the list"
   ]
  },
  {
   "cell_type": "code",
   "execution_count": 470,
   "id": "dc1bcb87-8cab-471e-88f3-597634644be5",
   "metadata": {},
   "outputs": [
    {
     "data": {
      "text/plain": [
       "140136830037568"
      ]
     },
     "execution_count": 470,
     "metadata": {},
     "output_type": "execute_result"
    }
   ],
   "source": [
    "id(mylist2) # The address of mylist2 will be different "
   ]
  },
  {
   "cell_type": "code",
   "execution_count": 472,
   "id": "6c8fdba1-01d2-4146-bc0b-e00dd753516e",
   "metadata": {},
   "outputs": [],
   "source": [
    "mylist[0] = 1"
   ]
  },
  {
   "cell_type": "code",
   "execution_count": 474,
   "id": "0a252ae9-37fa-4a12-81f8-fff8ab3ed66f",
   "metadata": {},
   "outputs": [
    {
     "data": {
      "text/plain": [
       "[1, 'two', 'three', 'four', 'five', 'six', 'seven']"
      ]
     },
     "execution_count": 474,
     "metadata": {},
     "output_type": "execute_result"
    }
   ],
   "source": [
    "mylist"
   ]
  },
  {
   "cell_type": "code",
   "execution_count": 476,
   "id": "2e290e79-5417-44aa-b0fb-26d4bf32ec16",
   "metadata": {},
   "outputs": [
    {
     "data": {
      "text/plain": [
       "[1, 'two', 'three', 'four', 'five', 'six', 'seven']"
      ]
     },
     "execution_count": 476,
     "metadata": {},
     "output_type": "execute_result"
    }
   ],
   "source": [
    "mylist1 # mylist1 will be also impacted as it is pointing to the same list"
   ]
  },
  {
   "cell_type": "code",
   "execution_count": 478,
   "id": "8fb53848-bf04-48c0-b5a4-23ffa626f600",
   "metadata": {},
   "outputs": [
    {
     "data": {
      "text/plain": [
       "['one', 'two', 'three', 'four', 'five', 'six', 'seven']"
      ]
     },
     "execution_count": 478,
     "metadata": {},
     "output_type": "execute_result"
    }
   ],
   "source": [
    "mylist2 # Copy of list won't be impacted due to changes made on the original list"
   ]
  },
  {
   "cell_type": "markdown",
   "id": "406d4cd1-9212-4b5f-93a9-39dcefb27430",
   "metadata": {},
   "source": [
    "### Join Lists"
   ]
  },
  {
   "cell_type": "code",
   "execution_count": null,
   "id": "632bf113-fc08-45f0-a809-04d6279a9c53",
   "metadata": {},
   "outputs": [],
   "source": []
  }
 ],
 "metadata": {
  "kernelspec": {
   "display_name": "anaconda-panel-2023.05-py310",
   "language": "python",
   "name": "conda-env-anaconda-panel-2023.05-py310-py"
  },
  "language_info": {
   "codemirror_mode": {
    "name": "ipython",
    "version": 3
   },
   "file_extension": ".py",
   "mimetype": "text/x-python",
   "name": "python",
   "nbconvert_exporter": "python",
   "pygments_lexer": "ipython3",
   "version": "3.11.5"
  }
 },
 "nbformat": 4,
 "nbformat_minor": 5
}
