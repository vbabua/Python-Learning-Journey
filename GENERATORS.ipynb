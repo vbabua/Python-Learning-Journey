{
 "cells": [
  {
   "cell_type": "markdown",
   "id": "6c1a4786",
   "metadata": {},
   "source": [
    "# YIELD"
   ]
  },
  {
   "cell_type": "code",
   "execution_count": 2,
   "id": "481ebc21",
   "metadata": {},
   "outputs": [
    {
     "name": "stdout",
     "output_type": "stream",
     "text": [
      "original list [1, 4, 5, 6, 7]\n",
      "Even numbers in the list 4 6 "
     ]
    }
   ],
   "source": [
    "def print_even(test_list) :\n",
    "    for i in test_list:\n",
    "        if i % 2 == 0:\n",
    "            yield i\n",
    "test_list = [1, 4, 5, 6, 7]\n",
    "print(\"original list\", test_list)\n",
    "print(\"Even numbers in the list\", end =\" \")\n",
    "for j in print_even(test_list):\n",
    "    print(j, end = \" \")"
   ]
  },
  {
   "cell_type": "code",
   "execution_count": 3,
   "id": "b0c06976",
   "metadata": {},
   "outputs": [
    {
     "name": "stdout",
     "output_type": "stream",
     "text": [
      "1\n",
      "4\n",
      "9\n",
      "16\n",
      "25\n",
      "36\n",
      "49\n",
      "64\n",
      "81\n",
      "100\n"
     ]
    }
   ],
   "source": [
    "def next_square():\n",
    "    i = 1\n",
    "    while True:\n",
    "        yield i * i\n",
    "        i += 1\n",
    "for num in next_square():\n",
    "    if num > 100:\n",
    "        break\n",
    "    print(num)"
   ]
  },
  {
   "cell_type": "code",
   "execution_count": 6,
   "id": "def5f6a8",
   "metadata": {},
   "outputs": [
    {
     "name": "stdout",
     "output_type": "stream",
     "text": [
      "The number of geeks in string is : 3\n"
     ]
    }
   ],
   "source": [
    "def search_string(test_string):\n",
    "    for i in test_string:\n",
    "        if i == \"geeks\":\n",
    "            yield i\n",
    "test_string = \"there are many geeks around you, \\\n",
    "geeks are known for teaching other geeks\"\n",
    "\n",
    "count = 0\n",
    "print(\"The number of geeks in string is : \", end = \"\")\n",
    "test_string = test_string.split()\n",
    "\n",
    "for j in search_string(test_string):\n",
    "    count = count + 1\n",
    "print(count)"
   ]
  },
  {
   "cell_type": "code",
   "execution_count": null,
   "id": "f32b56d6",
   "metadata": {},
   "outputs": [],
   "source": []
  }
 ],
 "metadata": {
  "kernelspec": {
   "display_name": "Python 3 (ipykernel)",
   "language": "python",
   "name": "python3"
  },
  "language_info": {
   "codemirror_mode": {
    "name": "ipython",
    "version": 3
   },
   "file_extension": ".py",
   "mimetype": "text/x-python",
   "name": "python",
   "nbconvert_exporter": "python",
   "pygments_lexer": "ipython3",
   "version": "3.8.3"
  }
 },
 "nbformat": 4,
 "nbformat_minor": 5
}
