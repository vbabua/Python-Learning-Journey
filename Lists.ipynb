{
 "cells": [
  {
   "cell_type": "markdown",
   "id": "4b9a8696",
   "metadata": {},
   "source": [
    "# LISTS\n"
   ]
  },
  {
   "cell_type": "code",
   "execution_count": 2,
   "id": "5380655b",
   "metadata": {},
   "outputs": [],
   "source": [
    "items=[\"bread\", \"pasta\", \"fruits\"]"
   ]
  },
  {
   "cell_type": "code",
   "execution_count": 6,
   "id": "e5700fd6",
   "metadata": {},
   "outputs": [
    {
     "name": "stdout",
     "output_type": "stream",
     "text": [
      "['bread', 'pasta', 'fruits']\n"
     ]
    },
    {
     "data": {
      "text/plain": [
       "list"
      ]
     },
     "execution_count": 6,
     "metadata": {},
     "output_type": "execute_result"
    }
   ],
   "source": [
    "print(items)\n",
    "type(items)"
   ]
  },
  {
   "cell_type": "code",
   "execution_count": 12,
   "id": "792645b6",
   "metadata": {},
   "outputs": [],
   "source": [
    "items=['bread', 'pasta', 'fruits']"
   ]
  },
  {
   "cell_type": "code",
   "execution_count": 5,
   "id": "84a0b62f",
   "metadata": {},
   "outputs": [
    {
     "name": "stdout",
     "output_type": "stream",
     "text": [
      "['bread', 'pasta', 'fruits']\n"
     ]
    }
   ],
   "source": [
    "print(items)"
   ]
  },
  {
   "cell_type": "code",
   "execution_count": 7,
   "id": "6876b97f",
   "metadata": {},
   "outputs": [
    {
     "data": {
      "text/plain": [
       "list"
      ]
     },
     "execution_count": 7,
     "metadata": {},
     "output_type": "execute_result"
    }
   ],
   "source": [
    "type(items[0:1])"
   ]
  },
  {
   "cell_type": "code",
   "execution_count": 9,
   "id": "9a627fa3",
   "metadata": {},
   "outputs": [
    {
     "name": "stdout",
     "output_type": "stream",
     "text": [
      "['chips', 'pasta', 'fruits']\n"
     ]
    }
   ],
   "source": [
    "items[0] = \"chips\"\n",
    "print(items)"
   ]
  },
  {
   "cell_type": "code",
   "execution_count": 13,
   "id": "8d11183e",
   "metadata": {},
   "outputs": [
    {
     "name": "stdout",
     "output_type": "stream",
     "text": [
      "['bread', 'pasta', 'fruits', 'butter']\n"
     ]
    }
   ],
   "source": [
    "items.append(\"butter\")\n",
    "print(items)"
   ]
  },
  {
   "cell_type": "code",
   "execution_count": 14,
   "id": "f0b7e1cc",
   "metadata": {},
   "outputs": [
    {
     "name": "stdout",
     "output_type": "stream",
     "text": [
      "['bread', 'vegetables', 'pasta', 'fruits', 'butter']\n"
     ]
    }
   ],
   "source": [
    "items.insert(1,\"vegetables\")\n",
    "print(items)"
   ]
  },
  {
   "cell_type": "code",
   "execution_count": 16,
   "id": "9bb0286b",
   "metadata": {},
   "outputs": [
    {
     "name": "stdout",
     "output_type": "stream",
     "text": [
      "['bread', 'vegetables', 'shampoo', 'soap']\n"
     ]
    }
   ],
   "source": [
    "food = [\"bread\", \"vegetables\"]\n",
    "bathroom = [\"shampoo\", \"soap\"]\n",
    "items = food + bathroom\n",
    "print(items)"
   ]
  },
  {
   "cell_type": "code",
   "execution_count": 17,
   "id": "a04e315a",
   "metadata": {},
   "outputs": [
    {
     "ename": "TypeError",
     "evalue": "can only concatenate list (not \"str\") to list",
     "output_type": "error",
     "traceback": [
      "\u001b[0;31m---------------------------------------------------------------------------\u001b[0m",
      "\u001b[0;31mTypeError\u001b[0m                                 Traceback (most recent call last)",
      "\u001b[0;32m/var/folders/g5/b9y581rx30570s6hjvj8t6_h0000gn/T/ipykernel_2979/576366559.py\u001b[0m in \u001b[0;36m<module>\u001b[0;34m\u001b[0m\n\u001b[0;32m----> 1\u001b[0;31m \u001b[0mitems\u001b[0m \u001b[0;34m+\u001b[0m \u001b[0;34m\"conditioner\"\u001b[0m\u001b[0;34m\u001b[0m\u001b[0;34m\u001b[0m\u001b[0m\n\u001b[0m",
      "\u001b[0;31mTypeError\u001b[0m: can only concatenate list (not \"str\") to list"
     ]
    }
   ],
   "source": [
    "items + \"conditioner\""
   ]
  },
  {
   "cell_type": "code",
   "execution_count": 18,
   "id": "b520b1e8",
   "metadata": {},
   "outputs": [
    {
     "data": {
      "text/plain": [
       "4"
      ]
     },
     "execution_count": 18,
     "metadata": {},
     "output_type": "execute_result"
    }
   ],
   "source": [
    "len(items)"
   ]
  },
  {
   "cell_type": "code",
   "execution_count": 1,
   "id": "9651b1c6",
   "metadata": {},
   "outputs": [
    {
     "name": "stdout",
     "output_type": "stream",
     "text": [
      "Blank List: \n",
      "[]\n"
     ]
    }
   ],
   "source": [
    "List = []\n",
    "print(\"Blank List: \")\n",
    "print(List)"
   ]
  },
  {
   "cell_type": "code",
   "execution_count": 2,
   "id": "af752405",
   "metadata": {},
   "outputs": [
    {
     "name": "stdout",
     "output_type": "stream",
     "text": [
      "\n",
      "List Items: \n",
      "Geeks\n",
      "Geeks\n"
     ]
    }
   ],
   "source": [
    "List = [\"Geeks\", \"For\", \"Geeks\"]\n",
    "print(\"\\nList Items: \")\n",
    "print(List[0])\n",
    "print(List[2])"
   ]
  },
  {
   "cell_type": "code",
   "execution_count": 3,
   "id": "a741c9b4",
   "metadata": {},
   "outputs": [
    {
     "name": "stdout",
     "output_type": "stream",
     "text": [
      "\n",
      "Multi-Dimensional List: \n",
      "[['Geeks', 'For'], ['Geeks']]\n"
     ]
    }
   ],
   "source": [
    "List = [['Geeks', 'For'], ['Geeks']]\n",
    "print(\"\\nMulti-Dimensional List: \")\n",
    "print(List)"
   ]
  },
  {
   "cell_type": "code",
   "execution_count": 4,
   "id": "5c0dd41c",
   "metadata": {},
   "outputs": [
    {
     "name": "stdout",
     "output_type": "stream",
     "text": [
      "\n",
      "List with the use of Numbers: \n",
      "[1, 2, 4, 4, 3, 3, 3, 6, 5]\n"
     ]
    }
   ],
   "source": [
    "# Creating a List with\n",
    "# the use of Numbers\n",
    "# (Having duplicate values)\n",
    "List = [1, 2, 4, 4, 3, 3, 3, 6, 5]\n",
    "print(\"\\nList with the use of Numbers: \")\n",
    "print(List)"
   ]
  },
  {
   "cell_type": "code",
   "execution_count": 5,
   "id": "7bb97673",
   "metadata": {},
   "outputs": [
    {
     "name": "stdout",
     "output_type": "stream",
     "text": [
      "\n",
      "List with the use of Mixed Values: \n",
      "[1, 2, 'Geeks', 4, 'For', 6, 'Geeks']\n"
     ]
    }
   ],
   "source": [
    "# Creating a List with\n",
    "# mixed type of values\n",
    "# (Having numbers and strings)\n",
    "List = [1, 2, 'Geeks', 4, 'For', 6, 'Geeks']\n",
    "print(\"\\nList with the use of Mixed Values: \")\n",
    "print(List)"
   ]
  },
  {
   "cell_type": "code",
   "execution_count": 6,
   "id": "d0952873",
   "metadata": {},
   "outputs": [
    {
     "name": "stdout",
     "output_type": "stream",
     "text": [
      "Initial List: \n",
      "[1, 2, 3, 4]\n",
      "\n",
      "List after performing Extend Operation: \n",
      "[1, 2, 3, 4, 8, 'Geeks', 'Always']\n"
     ]
    }
   ],
   "source": [
    "#extend() this method is used to add multiple elements at the same time at the end of the list.\n",
    "# Creating a List\n",
    "List = [1, 2, 3, 4]\n",
    "print(\"Initial List: \")\n",
    "print(List)\n",
    " \n",
    "# Addition of multiple elements\n",
    "# to the List at the end\n",
    "# (using Extend Method)\n",
    "List.extend([8, 'Geeks', 'Always'])\n",
    "print(\"\\nList after performing Extend Operation: \")\n",
    "print(List)"
   ]
  },
  {
   "cell_type": "markdown",
   "id": "d3255af9",
   "metadata": {},
   "source": [
    "Using remove() method\n",
    "Elements can be removed from the List by using the built-in remove() function but an Error arises if the element doesn’t exist in the list. Remove() method only removes one element at a time, to remove a range of elements, the iterator is used. The remove() method removes the specified item.\n",
    "\n",
    "Note – Remove method in List will only remove the first occurrence of the searched element."
   ]
  },
  {
   "cell_type": "code",
   "execution_count": 1,
   "id": "7281d29f",
   "metadata": {},
   "outputs": [
    {
     "name": "stdout",
     "output_type": "stream",
     "text": [
      "6\n",
      "5\n",
      "4\n",
      "3\n",
      "2\n",
      "1\n",
      "0\n"
     ]
    }
   ],
   "source": [
    "nums = [0, 1, 2, 3, 4, 5, 6]\n",
    "for i in reversed(range(len(nums))):\n",
    "    print(i)"
   ]
  },
  {
   "cell_type": "code",
   "execution_count": null,
   "id": "a57fb9d4",
   "metadata": {},
   "outputs": [],
   "source": []
  },
  {
   "cell_type": "code",
   "execution_count": null,
   "id": "99fbd3c7",
   "metadata": {},
   "outputs": [],
   "source": []
  },
  {
   "cell_type": "code",
   "execution_count": null,
   "id": "36e50a3a",
   "metadata": {},
   "outputs": [],
   "source": []
  }
 ],
 "metadata": {
  "kernelspec": {
   "display_name": "Python 3 (ipykernel)",
   "language": "python",
   "name": "python3"
  },
  "language_info": {
   "codemirror_mode": {
    "name": "ipython",
    "version": 3
   },
   "file_extension": ".py",
   "mimetype": "text/x-python",
   "name": "python",
   "nbconvert_exporter": "python",
   "pygments_lexer": "ipython3",
   "version": "3.8.3"
  }
 },
 "nbformat": 4,
 "nbformat_minor": 5
}
