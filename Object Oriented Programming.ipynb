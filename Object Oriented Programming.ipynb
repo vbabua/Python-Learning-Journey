{
 "cells": [
  {
   "cell_type": "markdown",
   "id": "42738a0c-06e8-48d2-b4bf-d79fc600f493",
   "metadata": {},
   "source": [
    "# Object Oriented Programming\n",
    "\n",
    "Allows us to represent data as one to one relationships with business problems."
   ]
  },
  {
   "cell_type": "markdown",
   "id": "d0a6d55e-69c8-4a82-a3a2-67f1c6d5b326",
   "metadata": {},
   "source": [
    "# Objects"
   ]
  },
  {
   "cell_type": "code",
   "execution_count": 1,
   "id": "8df36546-4290-43a8-824e-db49410994af",
   "metadata": {},
   "outputs": [
    {
     "name": "stdout",
     "output_type": "stream",
     "text": [
      "<class 'int'>\n"
     ]
    }
   ],
   "source": [
    "x = 1\n",
    "print(type(x))\n",
    "\n",
    "# here when we are doing x = 1 we are creating creating type int with value 1"
   ]
  },
  {
   "cell_type": "code",
   "execution_count": 3,
   "id": "088d985a-7a47-43de-84ba-092691a255d0",
   "metadata": {},
   "outputs": [
    {
     "name": "stdout",
     "output_type": "stream",
     "text": [
      "<class 'function'>\n"
     ]
    }
   ],
   "source": [
    "def hello():\n",
    "    print(\"Hello\")\n",
    "\n",
    "print(type(hello))"
   ]
  },
  {
   "cell_type": "markdown",
   "id": "b18e9774-9e7b-4cd1-9512-af01403fd169",
   "metadata": {},
   "source": [
    "we see function class. almost everything we work in python is an object of some kind of class. these are built in class\n",
    "\n",
    "whenever we are creating some thing in python we are creating an object which is an instance of a specific class\n",
    "\n",
    "\n",
    "Class defines the way objects can interact with other objects. To see that we will be looking at some error messages\n",
    "\n"
   ]
  },
  {
   "cell_type": "code",
   "execution_count": 10,
   "id": "98b98626-1633-48e5-ac20-61f120d3c8c3",
   "metadata": {},
   "outputs": [
    {
     "ename": "TypeError",
     "evalue": "unsupported operand type(s) for +: 'int' and 'str'",
     "output_type": "error",
     "traceback": [
      "\u001b[0;31m---------------------------------------------------------------------------\u001b[0m",
      "\u001b[0;31mTypeError\u001b[0m                                 Traceback (most recent call last)",
      "Cell \u001b[0;32mIn[10], line 4\u001b[0m\n\u001b[1;32m      1\u001b[0m x \u001b[38;5;241m=\u001b[39m \u001b[38;5;241m1\u001b[39m\n\u001b[1;32m      2\u001b[0m y \u001b[38;5;241m=\u001b[39m \u001b[38;5;124m\"\u001b[39m\u001b[38;5;124mHello\u001b[39m\u001b[38;5;124m\"\u001b[39m\n\u001b[0;32m----> 4\u001b[0m \u001b[38;5;28mprint\u001b[39m(x \u001b[38;5;241m+\u001b[39m y)\n",
      "\u001b[0;31mTypeError\u001b[0m: unsupported operand type(s) for +: 'int' and 'str'"
     ]
    }
   ],
   "source": [
    "x = 1\n",
    "y = \"Hello\"\n",
    "\n",
    "print(x + y)"
   ]
  },
  {
   "cell_type": "markdown",
   "id": "185cc65f-c35d-42e4-8635-94cba8bb9616",
   "metadata": {},
   "source": [
    "Addition operation is not defined for objects of int and objects of string being added together"
   ]
  },
  {
   "cell_type": "markdown",
   "id": "9c26f3e5-f140-46d1-9b07-365524f1fb78",
   "metadata": {},
   "source": [
    "# Methods"
   ]
  },
  {
   "cell_type": "code",
   "execution_count": 15,
   "id": "9a389e7f-f380-4af1-83c2-6f9203206a4c",
   "metadata": {},
   "outputs": [
    {
     "name": "stdout",
     "output_type": "stream",
     "text": [
      "HELLO\n"
     ]
    }
   ],
   "source": [
    "string = \"Hello\"\n",
    "print(string.upper())"
   ]
  },
  {
   "cell_type": "markdown",
   "id": "e1ebeb97-a8d4-42cd-b788-e3dd6a391556",
   "metadata": {},
   "source": [
    "Method upper being used on object of type string"
   ]
  },
  {
   "cell_type": "markdown",
   "id": "d809cdae-68a4-4708-a2af-2c13a1146243",
   "metadata": {},
   "source": [
    "# Class\n",
    "\n",
    "CamelCase for class names"
   ]
  },
  {
   "cell_type": "code",
   "execution_count": 41,
   "id": "30976e3c-30e8-4da5-b80d-f2e853be3f50",
   "metadata": {},
   "outputs": [],
   "source": [
    "class Dog:\n",
    "    def bark(self):\n",
    "        print(\"bark\")"
   ]
  },
  {
   "cell_type": "code",
   "execution_count": 43,
   "id": "28e4471d-bc50-4b82-a215-9a7e91f08d26",
   "metadata": {},
   "outputs": [],
   "source": [
    "d = Dog()\n",
    "# I am having a variable d and I am gonna assign it to an instance of type Dog\n",
    "# Creaing an instance of class"
   ]
  },
  {
   "cell_type": "code",
   "execution_count": 45,
   "id": "591a7852-09c7-4283-8a9e-db01975ede07",
   "metadata": {},
   "outputs": [
    {
     "name": "stdout",
     "output_type": "stream",
     "text": [
      "<class '__main__.Dog'>\n"
     ]
    }
   ],
   "source": [
    "print(type(d))"
   ]
  },
  {
   "cell_type": "markdown",
   "id": "1a2ff554-2dac-4f02-99f0-fac5b99024eb",
   "metadata": {},
   "source": [
    "\\_\\_main\\_\\_ The reason we have this underscore is this is because it is telling what module this class was defined in. \n",
    "By default it is main"
   ]
  },
  {
   "cell_type": "code",
   "execution_count": 48,
   "id": "4d6255d6-808f-4ae2-abb1-14aad0411b2b",
   "metadata": {},
   "outputs": [
    {
     "name": "stdout",
     "output_type": "stream",
     "text": [
      "bark\n"
     ]
    }
   ],
   "source": [
    "d.bark()"
   ]
  },
  {
   "cell_type": "markdown",
   "id": "d9ff9c8f-a9b0-4011-b25f-0615adf9a0b4",
   "metadata": {},
   "source": [
    "\\_\\_init\\_\\_ allows to instantiate object when it is created"
   ]
  },
  {
   "cell_type": "code",
   "execution_count": 71,
   "id": "ebb48349-9919-4b86-a927-ba59f6c79653",
   "metadata": {},
   "outputs": [],
   "source": [
    "class Dog:\n",
    "    def __init__(self, name):\n",
    "        self.name = name # Created an attribute of class Dog which is name\n",
    "        print(name)\n",
    "        \n",
    "    def get_name(self):\n",
    "        return self.name\n",
    "\n"
   ]
  },
  {
   "cell_type": "code",
   "execution_count": 79,
   "id": "fefc460a-25a3-49a2-af61-1ccd5aa9d697",
   "metadata": {},
   "outputs": [
    {
     "name": "stdout",
     "output_type": "stream",
     "text": [
      "Doggy\n"
     ]
    }
   ],
   "source": [
    "d = Dog(\"Doggy\")"
   ]
  },
  {
   "cell_type": "markdown",
   "id": "328e27e0-3013-4e16-96e2-064eceb74384",
   "metadata": {},
   "source": [
    "Eventhough we didn't call init here we see it printing\n",
    "\n",
    "\n",
    "self is needed in every function because when we need to invisibly pass the actual dog object to know which dog we are accessing\n",
    "\n",
    "Q we are already doing d.name so why do we need self again"
   ]
  },
  {
   "cell_type": "code",
   "execution_count": 82,
   "id": "fe40a6d8-f694-4034-9101-8c54d135d2ab",
   "metadata": {},
   "outputs": [
    {
     "name": "stdout",
     "output_type": "stream",
     "text": [
      "Doggy\n"
     ]
    }
   ],
   "source": [
    "print(d.name)"
   ]
  },
  {
   "cell_type": "code",
   "execution_count": 84,
   "id": "3729eb43-e539-4af6-a284-4c669be7e2b9",
   "metadata": {},
   "outputs": [
    {
     "name": "stdout",
     "output_type": "stream",
     "text": [
      "Doggy\n"
     ]
    }
   ],
   "source": [
    "print(d.get_name())"
   ]
  },
  {
   "cell_type": "code",
   "execution_count": 105,
   "id": "7e87b536-df12-43a0-a50b-1336e205922d",
   "metadata": {},
   "outputs": [],
   "source": [
    "class Student:\n",
    "    def __init__(self, name, age, grade):\n",
    "        self.name = name\n",
    "        self.age = age\n",
    "        self.grade = grade\n",
    "    def get_grade(self):\n",
    "        return self.grade\n",
    "    "
   ]
  },
  {
   "cell_type": "code",
   "execution_count": 189,
   "id": "b3fba42c-81ce-4ba0-be7e-7838be8205aa",
   "metadata": {},
   "outputs": [],
   "source": [
    "class Course:\n",
    "    def __init__(self, name, max_students):\n",
    "        self.name = name\n",
    "        self.max_students = max_students\n",
    "        self.students = [] # Note this is not in parameters of init\n",
    "    def add_student(self, student):\n",
    "        if len(self.students) < self.max_students:\n",
    "            self.students.append(student)\n",
    "            return True\n",
    "        else:\n",
    "            return False\n",
    "    def get_average_grade(self):\n",
    "        value = 0\n",
    "        for student in self.students:\n",
    "            value += student.get_grade()\n",
    "        return value / len(self.students)"
   ]
  },
  {
   "cell_type": "code",
   "execution_count": 191,
   "id": "f99c1ab8-20fd-4760-85bd-97aea105f500",
   "metadata": {},
   "outputs": [],
   "source": [
    "s1 = Student(\"Tim\", 19, 95)\n",
    "s2 = Student(\"Bill\", 10, 75)\n",
    "s3 = Student(\"Jill\", 19, 65)"
   ]
  },
  {
   "cell_type": "code",
   "execution_count": 193,
   "id": "ae944d6f-132f-4cb8-b35a-e2beea1cbfd3",
   "metadata": {},
   "outputs": [],
   "source": [
    "course = Course(\"Science\", 2)"
   ]
  },
  {
   "cell_type": "code",
   "execution_count": 195,
   "id": "da20b1c0-ccaf-44a2-ad3b-cfffdf27e2d0",
   "metadata": {},
   "outputs": [
    {
     "data": {
      "text/plain": [
       "True"
      ]
     },
     "execution_count": 195,
     "metadata": {},
     "output_type": "execute_result"
    }
   ],
   "source": [
    "course.add_student(s1)\n",
    "course.add_student(s2)"
   ]
  },
  {
   "cell_type": "code",
   "execution_count": 196,
   "id": "e672bce6-d0d8-444e-852e-36e4333518d4",
   "metadata": {},
   "outputs": [
    {
     "name": "stdout",
     "output_type": "stream",
     "text": [
      "[<__main__.Student object at 0x7f12a50ce390>, <__main__.Student object at 0x7f12a50cd410>]\n"
     ]
    }
   ],
   "source": [
    "print(course.students)"
   ]
  },
  {
   "cell_type": "code",
   "execution_count": 198,
   "id": "a3d387b1-c5a1-4b19-87d0-ebe1dbd3bf55",
   "metadata": {},
   "outputs": [
    {
     "name": "stdout",
     "output_type": "stream",
     "text": [
      "Tim\n"
     ]
    }
   ],
   "source": [
    "print(course.students[0].name)"
   ]
  },
  {
   "cell_type": "code",
   "execution_count": 200,
   "id": "2406441d-d301-4e5d-8864-3e98ca6ac753",
   "metadata": {},
   "outputs": [
    {
     "data": {
      "text/plain": [
       "False"
      ]
     },
     "execution_count": 200,
     "metadata": {},
     "output_type": "execute_result"
    }
   ],
   "source": [
    "course.add_student(s3)"
   ]
  },
  {
   "cell_type": "code",
   "execution_count": 203,
   "id": "fd117217-691d-401d-8d9f-76044b25240e",
   "metadata": {},
   "outputs": [
    {
     "data": {
      "text/plain": [
       "85.0"
      ]
     },
     "execution_count": 203,
     "metadata": {},
     "output_type": "execute_result"
    }
   ],
   "source": [
    "course.get_average_grade()"
   ]
  },
  {
   "cell_type": "markdown",
   "id": "5cda6aca-1912-404e-8b20-40dc49d12e2c",
   "metadata": {},
   "source": [
    "# Inheritance"
   ]
  },
  {
   "cell_type": "code",
   "execution_count": null,
   "id": "7e800a3e-2dbd-4420-a508-29d437e9203b",
   "metadata": {},
   "outputs": [],
   "source": [
    "class Cat:\n",
    "    def __init__(self, name, age):\n",
    "        self.name = name\n",
    "        self.age = age\n",
    "    def speak(self):\n",
    "        print(\"Meow\")\n",
    "\n",
    "class Dog:\n",
    "    def __init__(self, name, age):\n",
    "        self.name = name\n",
    "        self.age = age\n",
    "    def speak(self):\n",
    "        print(\"Bark\")\n",
    "        "
   ]
  },
  {
   "cell_type": "markdown",
   "id": "a747b32a-9e17-4dc6-9fd1-962c16acb799",
   "metadata": {},
   "source": [
    "if we see in both of them the only difference is the speak"
   ]
  },
  {
   "cell_type": "code",
   "execution_count": 208,
   "id": "3a7a8682-4f57-4a1f-99ce-fca7ce718542",
   "metadata": {},
   "outputs": [],
   "source": [
    "class Pet:\n",
    "    def __init__(self, name, age):\n",
    "        self.name = name\n",
    "        self.age = age\n",
    "    def show(self):\n",
    "        print(f\"I am {self.name} and I am {self.age} years old.\")\n",
    "    "
   ]
  },
  {
   "cell_type": "code",
   "execution_count": 210,
   "id": "2e42d4d0-fc5a-4c16-9a9b-9a05b2f9efd4",
   "metadata": {},
   "outputs": [],
   "source": [
    "class Cat(Pet):\n",
    "    def speak(self):\n",
    "        print(\"Meow\")\n",
    "    # Notice not init here as we have one inside Pet"
   ]
  },
  {
   "cell_type": "code",
   "execution_count": 212,
   "id": "c78c4695-645d-4f9b-80e8-c20deeb54c23",
   "metadata": {},
   "outputs": [],
   "source": [
    "class Dog(Pet):\n",
    "    def speak(self):\n",
    "        print(\"Bark\")"
   ]
  },
  {
   "cell_type": "code",
   "execution_count": 216,
   "id": "a4b1b5d4-67eb-4243-b6d1-776552860d2e",
   "metadata": {},
   "outputs": [
    {
     "name": "stdout",
     "output_type": "stream",
     "text": [
      "I am Time and I am 19 years old.\n",
      "I am Bill and I am 34 years old.\n"
     ]
    }
   ],
   "source": [
    "p = Pet(\"Time\", 19)\n",
    "p.show()\n",
    "c = Cat(\"Bill\", 34)\n",
    "c.show()\n",
    "d = Dog(\"Jill\", 25)"
   ]
  },
  {
   "cell_type": "code",
   "execution_count": 218,
   "id": "0f14b98a-8e7e-4aca-bba8-2353794951e9",
   "metadata": {},
   "outputs": [
    {
     "name": "stdout",
     "output_type": "stream",
     "text": [
      "Bark\n"
     ]
    }
   ],
   "source": [
    "d.speak()"
   ]
  },
  {
   "cell_type": "code",
   "execution_count": 220,
   "id": "aac15bf2-7de7-427b-8f8a-2d653cb0e1c9",
   "metadata": {},
   "outputs": [
    {
     "name": "stdout",
     "output_type": "stream",
     "text": [
      "Meow\n"
     ]
    }
   ],
   "source": [
    "c.speak()"
   ]
  },
  {
   "cell_type": "markdown",
   "id": "000ae587-d355-435c-81f1-04f4d5638f7f",
   "metadata": {},
   "source": [
    "If there is a function with same name in child class as the one in parent class then it will override the one in the parent class"
   ]
  },
  {
   "cell_type": "markdown",
   "id": "a535b2ca-d05c-443a-b309-039d3de5f2bf",
   "metadata": {},
   "source": [
    "Let's say we want to add one attribute to class. What I do need to do that I will use __init__ but I don't want to rewrite everything. it wouldn't be correct to reinitialise everything sometimes because parent class might be doing something more complicated"
   ]
  },
  {
   "cell_type": "code",
   "execution_count": 230,
   "id": "7414eb7f-2175-4f45-9b77-73bd53a71eec",
   "metadata": {},
   "outputs": [],
   "source": [
    "class Cat(Pet):\n",
    "    def __init__(self, name, age, color):\n",
    "        super().__init__(name, age) # Using super()\n",
    "        self.color = color\n",
    "    def speak(self):\n",
    "        print(\"Meow\")\n",
    "    def show(self):\n",
    "        print(f\"I am {self.name} and I am {self.age} years old and I am {self.color}.\")"
   ]
  },
  {
   "cell_type": "code",
   "execution_count": 234,
   "id": "60d32a2f-a7a7-4c27-94d7-9c70e7b9c2fe",
   "metadata": {},
   "outputs": [
    {
     "name": "stdout",
     "output_type": "stream",
     "text": [
      "I am Bill and I am 34 years old and I am Brown.\n"
     ]
    }
   ],
   "source": [
    "c = Cat(\"Bill\", 34, \"Brown\")\n",
    "c.show()"
   ]
  },
  {
   "cell_type": "markdown",
   "id": "4dcd6ba1-dd77-46d1-9b16-c3edca078260",
   "metadata": {},
   "source": [
    "# Class Attributes\n",
    "\n",
    "Attribute specific to a class not to an instance or object of that class\n",
    "Can be accessed and changed using the class name"
   ]
  },
  {
   "cell_type": "code",
   "execution_count": 242,
   "id": "90f34837-c56e-497e-a94a-1159535052e2",
   "metadata": {},
   "outputs": [],
   "source": [
    "class Person:\n",
    "    number_of_people = 0 # Class attribute, not gonna change for every instance\n",
    "\n",
    "    def __init__(self, name):\n",
    "        self.name = name\n",
    "        "
   ]
  },
  {
   "cell_type": "code",
   "execution_count": 244,
   "id": "fcb4a32a-62dd-4c7f-b834-8917461d9704",
   "metadata": {},
   "outputs": [],
   "source": [
    "p1 = Person(\"Tim\")\n",
    "p2 = Person(\"Jill\")"
   ]
  },
  {
   "cell_type": "code",
   "execution_count": 258,
   "id": "c4696571-e757-4840-bbda-04dfb44c47d6",
   "metadata": {},
   "outputs": [
    {
     "name": "stdout",
     "output_type": "stream",
     "text": [
      "8\n"
     ]
    }
   ],
   "source": [
    "print(p1.number_of_people)"
   ]
  },
  {
   "cell_type": "code",
   "execution_count": 253,
   "id": "ea7b9303-caec-4228-9732-5ef7ac93447d",
   "metadata": {},
   "outputs": [
    {
     "name": "stdout",
     "output_type": "stream",
     "text": [
      "0\n"
     ]
    }
   ],
   "source": [
    "print(Person.number_of_people)"
   ]
  },
  {
   "cell_type": "code",
   "execution_count": 256,
   "id": "cf9d9f84-677f-4bc1-a3a3-4f96489279d9",
   "metadata": {},
   "outputs": [],
   "source": [
    "Person.number_of_people = 8"
   ]
  },
  {
   "cell_type": "code",
   "execution_count": 262,
   "id": "13137e6f-a150-48dc-b77f-9b16024e1d19",
   "metadata": {},
   "outputs": [
    {
     "name": "stdout",
     "output_type": "stream",
     "text": [
      "8\n"
     ]
    }
   ],
   "source": [
    "print(p2.number_of_people)"
   ]
  },
  {
   "cell_type": "code",
   "execution_count": 264,
   "id": "9e8a2238-e0da-4469-9a6f-abc7a47e548e",
   "metadata": {},
   "outputs": [
    {
     "name": "stdout",
     "output_type": "stream",
     "text": [
      "8\n"
     ]
    }
   ],
   "source": [
    "print(p1.number_of_people)"
   ]
  },
  {
   "cell_type": "markdown",
   "id": "fffc9530-e172-4a6f-9c03-9c8b6655c937",
   "metadata": {},
   "source": [
    "Can be used for keeping track of the number of objects created or create a global contant value "
   ]
  },
  {
   "cell_type": "code",
   "execution_count": 266,
   "id": "51892e90-6b33-4c5e-9df7-298bd35f37a8",
   "metadata": {},
   "outputs": [],
   "source": [
    "class Person:\n",
    "    number_of_people = 0 \n",
    "    def __init__(self, name):\n",
    "        self.name = name\n",
    "        Person.number_of_people += 1"
   ]
  },
  {
   "cell_type": "code",
   "execution_count": 269,
   "id": "c4d2095f-1bd9-4930-97d5-c444989c9cbc",
   "metadata": {},
   "outputs": [],
   "source": [
    "p1 = Person(\"Tim\")\n",
    "p2 = Person(\"Jill\")"
   ]
  },
  {
   "cell_type": "code",
   "execution_count": 271,
   "id": "a6b69033-894a-4171-aafb-72809b75294a",
   "metadata": {},
   "outputs": [
    {
     "name": "stdout",
     "output_type": "stream",
     "text": [
      "2\n"
     ]
    }
   ],
   "source": [
    "print(Person.number_of_people)"
   ]
  },
  {
   "cell_type": "markdown",
   "id": "017096cc-59dd-41db-bd2f-db950005d239",
   "metadata": {},
   "source": [
    "# Class Methods"
   ]
  },
  {
   "cell_type": "code",
   "execution_count": 278,
   "id": "bdb53d0e-dd5c-4f28-a96a-16a45974d6c1",
   "metadata": {},
   "outputs": [],
   "source": [
    "class Person:\n",
    "    number_of_people = 0\n",
    "\n",
    "    def __init__(self, name):\n",
    "        self.name = name\n",
    "    \n",
    "    @classmethod\n",
    "    def number_of_people(cls):\n",
    "        return cls.number_of_people\n",
    "\n",
    "    @classmethod\n",
    "    def add_person(cls):\n",
    "        cls.number_of_people += 1"
   ]
  },
  {
   "cell_type": "markdown",
   "id": "caf6e58d-c6d1-4eac-8206-65852eb67101",
   "metadata": {},
   "source": [
    "This is not going to acting on a particular instance. it acts on class itself. that is why cls is written instead of self"
   ]
  },
  {
   "cell_type": "code",
   "execution_count": 284,
   "id": "b37d2110-9d6f-46fb-a1e1-1f3458446615",
   "metadata": {},
   "outputs": [
    {
     "data": {
      "text/plain": [
       "<bound method Person.number_of_people of <class '__main__.Person'>>"
      ]
     },
     "execution_count": 284,
     "metadata": {},
     "output_type": "execute_result"
    }
   ],
   "source": [
    "Person.number_of_people"
   ]
  },
  {
   "cell_type": "code",
   "execution_count": null,
   "id": "ebed35f4-728d-4b8c-88d9-e2b54f838c4a",
   "metadata": {},
   "outputs": [],
   "source": []
  }
 ],
 "metadata": {
  "kernelspec": {
   "display_name": "anaconda-panel-2023.05-py310",
   "language": "python",
   "name": "conda-env-anaconda-panel-2023.05-py310-py"
  },
  "language_info": {
   "codemirror_mode": {
    "name": "ipython",
    "version": 3
   },
   "file_extension": ".py",
   "mimetype": "text/x-python",
   "name": "python",
   "nbconvert_exporter": "python",
   "pygments_lexer": "ipython3",
   "version": "3.11.5"
  }
 },
 "nbformat": 4,
 "nbformat_minor": 5
}
