{
  "cells": [
    {
      "cell_type": "markdown",
      "id": "42738a0c-06e8-48d2-b4bf-d79fc600f493",
      "metadata": {
        "id": "42738a0c-06e8-48d2-b4bf-d79fc600f493"
      },
      "source": [
        "# Object Oriented Programming\n",
        "\n",
        "Allows us to represent data as one to one relationships with business problems."
      ]
    },
    {
      "cell_type": "markdown",
      "id": "d0a6d55e-69c8-4a82-a3a2-67f1c6d5b326",
      "metadata": {
        "id": "d0a6d55e-69c8-4a82-a3a2-67f1c6d5b326"
      },
      "source": [
        "# Objects"
      ]
    },
    {
      "cell_type": "code",
      "execution_count": null,
      "id": "8df36546-4290-43a8-824e-db49410994af",
      "metadata": {
        "id": "8df36546-4290-43a8-824e-db49410994af",
        "outputId": "e0e54f84-ad0a-4914-af42-fde5ba214668"
      },
      "outputs": [
        {
          "name": "stdout",
          "output_type": "stream",
          "text": [
            "<class 'int'>\n"
          ]
        }
      ],
      "source": [
        "x = 1\n",
        "print(type(x))\n",
        "\n",
        "# here when we are doing x = 1 we are creating creating type int with value 1"
      ]
    },
    {
      "cell_type": "code",
      "execution_count": null,
      "id": "088d985a-7a47-43de-84ba-092691a255d0",
      "metadata": {
        "id": "088d985a-7a47-43de-84ba-092691a255d0",
        "outputId": "6160a41c-3d7d-443f-ea78-9833fdc18672"
      },
      "outputs": [
        {
          "name": "stdout",
          "output_type": "stream",
          "text": [
            "<class 'function'>\n"
          ]
        }
      ],
      "source": [
        "def hello():\n",
        "    print(\"Hello\")\n",
        "\n",
        "print(type(hello))"
      ]
    },
    {
      "cell_type": "markdown",
      "id": "b18e9774-9e7b-4cd1-9512-af01403fd169",
      "metadata": {
        "id": "b18e9774-9e7b-4cd1-9512-af01403fd169"
      },
      "source": [
        "we see function class. almost everything we work in python is an object of some kind of class. these are built in class\n",
        "\n",
        "whenever we are creating some thing in python we are creating an object which is an instance of a specific class\n",
        "\n",
        "\n",
        "Class defines the way objects can interact with other objects. To see that we will be looking at some error messages\n",
        "\n"
      ]
    },
    {
      "cell_type": "code",
      "execution_count": null,
      "id": "98b98626-1633-48e5-ac20-61f120d3c8c3",
      "metadata": {
        "id": "98b98626-1633-48e5-ac20-61f120d3c8c3",
        "outputId": "e4845698-9c8d-4bed-e78d-39ab0153be22"
      },
      "outputs": [
        {
          "ename": "TypeError",
          "evalue": "unsupported operand type(s) for +: 'int' and 'str'",
          "output_type": "error",
          "traceback": [
            "\u001b[0;31m---------------------------------------------------------------------------\u001b[0m",
            "\u001b[0;31mTypeError\u001b[0m                                 Traceback (most recent call last)",
            "Cell \u001b[0;32mIn[10], line 4\u001b[0m\n\u001b[1;32m      1\u001b[0m x \u001b[38;5;241m=\u001b[39m \u001b[38;5;241m1\u001b[39m\n\u001b[1;32m      2\u001b[0m y \u001b[38;5;241m=\u001b[39m \u001b[38;5;124m\"\u001b[39m\u001b[38;5;124mHello\u001b[39m\u001b[38;5;124m\"\u001b[39m\n\u001b[0;32m----> 4\u001b[0m \u001b[38;5;28mprint\u001b[39m(x \u001b[38;5;241m+\u001b[39m y)\n",
            "\u001b[0;31mTypeError\u001b[0m: unsupported operand type(s) for +: 'int' and 'str'"
          ]
        }
      ],
      "source": [
        "x = 1\n",
        "y = \"Hello\"\n",
        "\n",
        "print(x + y)"
      ]
    },
    {
      "cell_type": "markdown",
      "id": "185cc65f-c35d-42e4-8635-94cba8bb9616",
      "metadata": {
        "id": "185cc65f-c35d-42e4-8635-94cba8bb9616"
      },
      "source": [
        "Addition operation is not defined for objects of int and objects of string being added together"
      ]
    },
    {
      "cell_type": "markdown",
      "id": "9c26f3e5-f140-46d1-9b07-365524f1fb78",
      "metadata": {
        "id": "9c26f3e5-f140-46d1-9b07-365524f1fb78"
      },
      "source": [
        "# Methods"
      ]
    },
    {
      "cell_type": "code",
      "execution_count": null,
      "id": "9a389e7f-f380-4af1-83c2-6f9203206a4c",
      "metadata": {
        "id": "9a389e7f-f380-4af1-83c2-6f9203206a4c",
        "outputId": "3ca20b11-7bf4-4107-839b-400ffca75e10"
      },
      "outputs": [
        {
          "name": "stdout",
          "output_type": "stream",
          "text": [
            "HELLO\n"
          ]
        }
      ],
      "source": [
        "string = \"Hello\"\n",
        "print(string.upper())"
      ]
    },
    {
      "cell_type": "markdown",
      "id": "e1ebeb97-a8d4-42cd-b788-e3dd6a391556",
      "metadata": {
        "id": "e1ebeb97-a8d4-42cd-b788-e3dd6a391556"
      },
      "source": [
        "Method upper being used on object of type string"
      ]
    },
    {
      "cell_type": "markdown",
      "id": "d809cdae-68a4-4708-a2af-2c13a1146243",
      "metadata": {
        "id": "d809cdae-68a4-4708-a2af-2c13a1146243"
      },
      "source": [
        "# Class\n",
        "\n",
        "CamelCase for class names\n",
        "\n",
        "\\_\\_init\\_\\_(self, ) : initaliser or  constructor.\n",
        "\n",
        "  parameters are variables attached to the methods that we are creaing. arguments are the actual values we pass to the method\n",
        "\n",
        "  any method with \\_\\_ is the method that is already created and we can override with our own functionality."
      ]
    },
    {
      "cell_type": "code",
      "execution_count": 13,
      "id": "30976e3c-30e8-4da5-b80d-f2e853be3f50",
      "metadata": {
        "id": "30976e3c-30e8-4da5-b80d-f2e853be3f50"
      },
      "outputs": [],
      "source": [
        "class Dog:\n",
        "    def bark(self):\n",
        "        print(\"bark\")"
      ]
    },
    {
      "cell_type": "code",
      "execution_count": null,
      "id": "28e4471d-bc50-4b82-a215-9a7e91f08d26",
      "metadata": {
        "id": "28e4471d-bc50-4b82-a215-9a7e91f08d26"
      },
      "outputs": [],
      "source": [
        "d = Dog()\n",
        "# I am having a variable d and I am gonna assign it to an instance of type Dog\n",
        "# Creaing an instance of class"
      ]
    },
    {
      "cell_type": "code",
      "execution_count": null,
      "id": "591a7852-09c7-4283-8a9e-db01975ede07",
      "metadata": {
        "id": "591a7852-09c7-4283-8a9e-db01975ede07",
        "outputId": "f7953007-923f-4f11-d46e-75bb10cb3878"
      },
      "outputs": [
        {
          "name": "stdout",
          "output_type": "stream",
          "text": [
            "<class '__main__.Dog'>\n"
          ]
        }
      ],
      "source": [
        "print(type(d))"
      ]
    },
    {
      "cell_type": "markdown",
      "id": "1a2ff554-2dac-4f02-99f0-fac5b99024eb",
      "metadata": {
        "id": "1a2ff554-2dac-4f02-99f0-fac5b99024eb"
      },
      "source": [
        "\\_\\_main\\_\\_ The reason we have this underscore is this is because it is telling what module this class was defined in.\n",
        "By default it is main"
      ]
    },
    {
      "cell_type": "code",
      "execution_count": null,
      "id": "4d6255d6-808f-4ae2-abb1-14aad0411b2b",
      "metadata": {
        "id": "4d6255d6-808f-4ae2-abb1-14aad0411b2b",
        "outputId": "0282cd67-8966-4026-828c-525981cd2e94"
      },
      "outputs": [
        {
          "name": "stdout",
          "output_type": "stream",
          "text": [
            "bark\n"
          ]
        }
      ],
      "source": [
        "d.bark()"
      ]
    },
    {
      "cell_type": "markdown",
      "id": "d9ff9c8f-a9b0-4011-b25f-0615adf9a0b4",
      "metadata": {
        "id": "d9ff9c8f-a9b0-4011-b25f-0615adf9a0b4"
      },
      "source": [
        "\\_\\_init\\_\\_ allows to instantiate object when it is created"
      ]
    },
    {
      "cell_type": "code",
      "execution_count": null,
      "id": "ebb48349-9919-4b86-a927-ba59f6c79653",
      "metadata": {
        "id": "ebb48349-9919-4b86-a927-ba59f6c79653"
      },
      "outputs": [],
      "source": [
        "class Dog:\n",
        "    def __init__(self, name):\n",
        "        self.name = name # Created an attribute of class Dog which is name\n",
        "        print(name)\n",
        "\n",
        "    def get_name(self):\n",
        "        return self.name\n",
        "\n"
      ]
    },
    {
      "cell_type": "code",
      "execution_count": null,
      "id": "fefc460a-25a3-49a2-af61-1ccd5aa9d697",
      "metadata": {
        "id": "fefc460a-25a3-49a2-af61-1ccd5aa9d697",
        "outputId": "39851270-8b48-4d37-b2a0-1182c84e3ce2"
      },
      "outputs": [
        {
          "name": "stdout",
          "output_type": "stream",
          "text": [
            "Doggy\n"
          ]
        }
      ],
      "source": [
        "d = Dog(\"Doggy\")"
      ]
    },
    {
      "cell_type": "markdown",
      "id": "328e27e0-3013-4e16-96e2-064eceb74384",
      "metadata": {
        "id": "328e27e0-3013-4e16-96e2-064eceb74384"
      },
      "source": [
        "Eventhough we didn't call init here we see it printing\n",
        "\n",
        "\n",
        "self is needed in every function because when we need to invisibly pass the actual dog object to know which dog we are accessing\n",
        "\n",
        "Q we are already doing d.name so why do we need self again"
      ]
    },
    {
      "cell_type": "code",
      "execution_count": null,
      "id": "fe40a6d8-f694-4034-9101-8c54d135d2ab",
      "metadata": {
        "id": "fe40a6d8-f694-4034-9101-8c54d135d2ab",
        "outputId": "50fbbac9-ab51-4550-c539-1be15daf493c"
      },
      "outputs": [
        {
          "name": "stdout",
          "output_type": "stream",
          "text": [
            "Doggy\n"
          ]
        }
      ],
      "source": [
        "print(d.name)"
      ]
    },
    {
      "cell_type": "code",
      "execution_count": null,
      "id": "3729eb43-e539-4af6-a284-4c669be7e2b9",
      "metadata": {
        "id": "3729eb43-e539-4af6-a284-4c669be7e2b9",
        "outputId": "8416fcc9-22bc-48c6-e16f-0008876b9026"
      },
      "outputs": [
        {
          "name": "stdout",
          "output_type": "stream",
          "text": [
            "Doggy\n"
          ]
        }
      ],
      "source": [
        "print(d.get_name())"
      ]
    },
    {
      "cell_type": "code",
      "execution_count": 14,
      "id": "7e87b536-df12-43a0-a50b-1336e205922d",
      "metadata": {
        "id": "7e87b536-df12-43a0-a50b-1336e205922d"
      },
      "outputs": [],
      "source": [
        "class Student:\n",
        "    def __init__(self, name, age, grade):\n",
        "        self.name = name\n",
        "        self.age = age\n",
        "        self.grade = grade\n",
        "    def get_grade(self):\n",
        "        return self.grade\n",
        ""
      ]
    },
    {
      "cell_type": "code",
      "execution_count": 15,
      "id": "b3fba42c-81ce-4ba0-be7e-7838be8205aa",
      "metadata": {
        "id": "b3fba42c-81ce-4ba0-be7e-7838be8205aa"
      },
      "outputs": [],
      "source": [
        "class Course:\n",
        "    def __init__(self, name, max_students):\n",
        "        self.name = name\n",
        "        self.max_students = max_students\n",
        "        self.students = [] # Note this is not in parameters of init\n",
        "    def add_student(self, student):\n",
        "        if len(self.students) < self.max_students:\n",
        "            self.students.append(student)\n",
        "            return True\n",
        "        else:\n",
        "            return False\n",
        "    def get_average_grade(self):\n",
        "        value = 0\n",
        "        for student in self.students:\n",
        "            value += student.get_grade()\n",
        "        return value / len(self.students)"
      ]
    },
    {
      "cell_type": "code",
      "execution_count": 16,
      "id": "f99c1ab8-20fd-4760-85bd-97aea105f500",
      "metadata": {
        "id": "f99c1ab8-20fd-4760-85bd-97aea105f500"
      },
      "outputs": [],
      "source": [
        "s1 = Student(\"Tim\", 19, 95)\n",
        "s2 = Student(\"Bill\", 10, 75)\n",
        "s3 = Student(\"Jill\", 19, 65)"
      ]
    },
    {
      "cell_type": "code",
      "execution_count": 17,
      "id": "ae944d6f-132f-4cb8-b35a-e2beea1cbfd3",
      "metadata": {
        "id": "ae944d6f-132f-4cb8-b35a-e2beea1cbfd3"
      },
      "outputs": [],
      "source": [
        "course = Course(\"Science\", 2)"
      ]
    },
    {
      "cell_type": "code",
      "execution_count": 18,
      "id": "da20b1c0-ccaf-44a2-ad3b-cfffdf27e2d0",
      "metadata": {
        "colab": {
          "base_uri": "https://localhost:8080/"
        },
        "id": "da20b1c0-ccaf-44a2-ad3b-cfffdf27e2d0",
        "outputId": "7259ac92-104f-4175-ece5-f6deb8b4709a"
      },
      "outputs": [
        {
          "output_type": "execute_result",
          "data": {
            "text/plain": [
              "True"
            ]
          },
          "metadata": {},
          "execution_count": 18
        }
      ],
      "source": [
        "# When we call a function the instance gets passed\n",
        "#implicitly and it is what is assigned to self\n",
        "course.add_student(s1)\n",
        "course.add_student(s2)"
      ]
    },
    {
      "cell_type": "code",
      "execution_count": 19,
      "id": "e672bce6-d0d8-444e-852e-36e4333518d4",
      "metadata": {
        "colab": {
          "base_uri": "https://localhost:8080/"
        },
        "id": "e672bce6-d0d8-444e-852e-36e4333518d4",
        "outputId": "aabe1274-cb6a-4dfb-df2c-c9766ee285f8"
      },
      "outputs": [
        {
          "output_type": "stream",
          "name": "stdout",
          "text": [
            "[<__main__.Student object at 0x78bbf5db3b80>, <__main__.Student object at 0x78bbf5db18a0>]\n"
          ]
        }
      ],
      "source": [
        "print(course.students)"
      ]
    },
    {
      "cell_type": "code",
      "execution_count": 20,
      "id": "a3d387b1-c5a1-4b19-87d0-ebe1dbd3bf55",
      "metadata": {
        "colab": {
          "base_uri": "https://localhost:8080/"
        },
        "id": "a3d387b1-c5a1-4b19-87d0-ebe1dbd3bf55",
        "outputId": "7eb16a0c-7b32-453c-d734-7a7e4b675fd4"
      },
      "outputs": [
        {
          "output_type": "stream",
          "name": "stdout",
          "text": [
            "Tim\n"
          ]
        }
      ],
      "source": [
        "print(course.students[0].name)"
      ]
    },
    {
      "cell_type": "code",
      "execution_count": 21,
      "id": "2406441d-d301-4e5d-8864-3e98ca6ac753",
      "metadata": {
        "colab": {
          "base_uri": "https://localhost:8080/"
        },
        "id": "2406441d-d301-4e5d-8864-3e98ca6ac753",
        "outputId": "01687f95-e246-4e8b-ab64-5a545e958945"
      },
      "outputs": [
        {
          "output_type": "execute_result",
          "data": {
            "text/plain": [
              "False"
            ]
          },
          "metadata": {},
          "execution_count": 21
        }
      ],
      "source": [
        "course.add_student(s3)"
      ]
    },
    {
      "cell_type": "code",
      "execution_count": 22,
      "id": "fd117217-691d-401d-8d9f-76044b25240e",
      "metadata": {
        "colab": {
          "base_uri": "https://localhost:8080/"
        },
        "id": "fd117217-691d-401d-8d9f-76044b25240e",
        "outputId": "f9998342-8b38-4034-a5cc-d63b1bccab45"
      },
      "outputs": [
        {
          "output_type": "execute_result",
          "data": {
            "text/plain": [
              "85.0"
            ]
          },
          "metadata": {},
          "execution_count": 22
        }
      ],
      "source": [
        "course.get_average_grade()"
      ]
    },
    {
      "cell_type": "code",
      "source": [
        "#Python let's you add class variables on the fly. Not a good practice\n",
        "s1.verified = True\n",
        "print(s1.verified)"
      ],
      "metadata": {
        "colab": {
          "base_uri": "https://localhost:8080/"
        },
        "id": "ogd6ArQEMShk",
        "outputId": "81752322-d9fe-4ab7-cfa3-cbfb7e2fd7cc"
      },
      "id": "ogd6ArQEMShk",
      "execution_count": 23,
      "outputs": [
        {
          "output_type": "stream",
          "name": "stdout",
          "text": [
            "True\n"
          ]
        }
      ]
    },
    {
      "cell_type": "markdown",
      "id": "5cda6aca-1912-404e-8b20-40dc49d12e2c",
      "metadata": {
        "id": "5cda6aca-1912-404e-8b20-40dc49d12e2c"
      },
      "source": [
        "# Inheritance"
      ]
    },
    {
      "cell_type": "code",
      "execution_count": null,
      "id": "7e800a3e-2dbd-4420-a508-29d437e9203b",
      "metadata": {
        "id": "7e800a3e-2dbd-4420-a508-29d437e9203b"
      },
      "outputs": [],
      "source": [
        "class Cat:\n",
        "    def __init__(self, name, age):\n",
        "        self.name = name\n",
        "        self.age = age\n",
        "    def speak(self):\n",
        "        print(\"Meow\")\n",
        "\n",
        "class Dog:\n",
        "    def __init__(self, name, age):\n",
        "        self.name = name\n",
        "        self.age = age\n",
        "    def speak(self):\n",
        "        print(\"Bark\")\n",
        ""
      ]
    },
    {
      "cell_type": "markdown",
      "id": "a747b32a-9e17-4dc6-9fd1-962c16acb799",
      "metadata": {
        "id": "a747b32a-9e17-4dc6-9fd1-962c16acb799"
      },
      "source": [
        "if we see in both of them the only difference is the speak"
      ]
    },
    {
      "cell_type": "code",
      "execution_count": null,
      "id": "3a7a8682-4f57-4a1f-99ce-fca7ce718542",
      "metadata": {
        "id": "3a7a8682-4f57-4a1f-99ce-fca7ce718542"
      },
      "outputs": [],
      "source": [
        "class Pet:\n",
        "    def __init__(self, name, age):\n",
        "        self.name = name\n",
        "        self.age = age\n",
        "    def show(self):\n",
        "        print(f\"I am {self.name} and I am {self.age} years old.\")\n",
        ""
      ]
    },
    {
      "cell_type": "code",
      "execution_count": null,
      "id": "2e42d4d0-fc5a-4c16-9a9b-9a05b2f9efd4",
      "metadata": {
        "id": "2e42d4d0-fc5a-4c16-9a9b-9a05b2f9efd4"
      },
      "outputs": [],
      "source": [
        "class Cat(Pet):\n",
        "    def speak(self):\n",
        "        print(\"Meow\")\n",
        "    # Notice not init here as we have one inside Pet"
      ]
    },
    {
      "cell_type": "code",
      "execution_count": null,
      "id": "c78c4695-645d-4f9b-80e8-c20deeb54c23",
      "metadata": {
        "id": "c78c4695-645d-4f9b-80e8-c20deeb54c23"
      },
      "outputs": [],
      "source": [
        "class Dog(Pet):\n",
        "    def speak(self):\n",
        "        print(\"Bark\")"
      ]
    },
    {
      "cell_type": "code",
      "execution_count": null,
      "id": "a4b1b5d4-67eb-4243-b6d1-776552860d2e",
      "metadata": {
        "id": "a4b1b5d4-67eb-4243-b6d1-776552860d2e",
        "outputId": "f49d52bb-62fd-4c9a-bf0f-17db98cad20b"
      },
      "outputs": [
        {
          "name": "stdout",
          "output_type": "stream",
          "text": [
            "I am Time and I am 19 years old.\n",
            "I am Bill and I am 34 years old.\n"
          ]
        }
      ],
      "source": [
        "p = Pet(\"Time\", 19)\n",
        "p.show()\n",
        "c = Cat(\"Bill\", 34)\n",
        "c.show()\n",
        "d = Dog(\"Jill\", 25)"
      ]
    },
    {
      "cell_type": "code",
      "execution_count": null,
      "id": "0f14b98a-8e7e-4aca-bba8-2353794951e9",
      "metadata": {
        "id": "0f14b98a-8e7e-4aca-bba8-2353794951e9",
        "outputId": "d69cc2a3-15ea-4aae-f109-2f4f34489ac0"
      },
      "outputs": [
        {
          "name": "stdout",
          "output_type": "stream",
          "text": [
            "Bark\n"
          ]
        }
      ],
      "source": [
        "d.speak()"
      ]
    },
    {
      "cell_type": "code",
      "execution_count": null,
      "id": "aac15bf2-7de7-427b-8f8a-2d653cb0e1c9",
      "metadata": {
        "id": "aac15bf2-7de7-427b-8f8a-2d653cb0e1c9",
        "outputId": "22535f83-1a32-4763-93c8-9d2baed58007"
      },
      "outputs": [
        {
          "name": "stdout",
          "output_type": "stream",
          "text": [
            "Meow\n"
          ]
        }
      ],
      "source": [
        "c.speak()"
      ]
    },
    {
      "cell_type": "markdown",
      "id": "000ae587-d355-435c-81f1-04f4d5638f7f",
      "metadata": {
        "id": "000ae587-d355-435c-81f1-04f4d5638f7f"
      },
      "source": [
        "If there is a function with same name in child class as the one in parent class then it will override the one in the parent class"
      ]
    },
    {
      "cell_type": "markdown",
      "id": "a535b2ca-d05c-443a-b309-039d3de5f2bf",
      "metadata": {
        "id": "a535b2ca-d05c-443a-b309-039d3de5f2bf"
      },
      "source": [
        "Let's say we want to add one attribute to class. What I do need to do that I will use __init__ but I don't want to rewrite everything. it wouldn't be correct to reinitialise everything sometimes because parent class might be doing something more complicated"
      ]
    },
    {
      "cell_type": "code",
      "execution_count": null,
      "id": "7414eb7f-2175-4f45-9b77-73bd53a71eec",
      "metadata": {
        "id": "7414eb7f-2175-4f45-9b77-73bd53a71eec"
      },
      "outputs": [],
      "source": [
        "class Cat(Pet):\n",
        "    def __init__(self, name, age, color):\n",
        "        super().__init__(name, age) # Using super()\n",
        "        self.color = color\n",
        "    def speak(self):\n",
        "        print(\"Meow\")\n",
        "    def show(self):\n",
        "        print(f\"I am {self.name} and I am {self.age} years old and I am {self.color}.\")"
      ]
    },
    {
      "cell_type": "code",
      "execution_count": null,
      "id": "60d32a2f-a7a7-4c27-94d7-9c70e7b9c2fe",
      "metadata": {
        "id": "60d32a2f-a7a7-4c27-94d7-9c70e7b9c2fe",
        "outputId": "29435e01-4fb4-40a2-9a7e-4b3fd0c2d144"
      },
      "outputs": [
        {
          "name": "stdout",
          "output_type": "stream",
          "text": [
            "I am Bill and I am 34 years old and I am Brown.\n"
          ]
        }
      ],
      "source": [
        "c = Cat(\"Bill\", 34, \"Brown\")\n",
        "c.show()"
      ]
    },
    {
      "cell_type": "markdown",
      "id": "4dcd6ba1-dd77-46d1-9b16-c3edca078260",
      "metadata": {
        "id": "4dcd6ba1-dd77-46d1-9b16-c3edca078260"
      },
      "source": [
        "# Class Attributes\n",
        "\n",
        "Attribute specific to a class not to an instance or object of that class\n",
        "Can be accessed and changed using the class name"
      ]
    },
    {
      "cell_type": "code",
      "execution_count": null,
      "id": "90f34837-c56e-497e-a94a-1159535052e2",
      "metadata": {
        "id": "90f34837-c56e-497e-a94a-1159535052e2"
      },
      "outputs": [],
      "source": [
        "class Person:\n",
        "    number_of_people = 0 # Class attribute, not gonna change for every instance\n",
        "\n",
        "    def __init__(self, name):\n",
        "        self.name = name\n",
        ""
      ]
    },
    {
      "cell_type": "code",
      "execution_count": null,
      "id": "fcb4a32a-62dd-4c7f-b834-8917461d9704",
      "metadata": {
        "id": "fcb4a32a-62dd-4c7f-b834-8917461d9704"
      },
      "outputs": [],
      "source": [
        "p1 = Person(\"Tim\")\n",
        "p2 = Person(\"Jill\")"
      ]
    },
    {
      "cell_type": "code",
      "execution_count": null,
      "id": "c4696571-e757-4840-bbda-04dfb44c47d6",
      "metadata": {
        "id": "c4696571-e757-4840-bbda-04dfb44c47d6",
        "outputId": "47a03979-8e4e-4ebf-d3e4-3c863d95e705"
      },
      "outputs": [
        {
          "name": "stdout",
          "output_type": "stream",
          "text": [
            "8\n"
          ]
        }
      ],
      "source": [
        "print(p1.number_of_people)"
      ]
    },
    {
      "cell_type": "code",
      "execution_count": null,
      "id": "ea7b9303-caec-4228-9732-5ef7ac93447d",
      "metadata": {
        "id": "ea7b9303-caec-4228-9732-5ef7ac93447d",
        "outputId": "0e13ec9f-8552-4880-eea2-445bf23f991c"
      },
      "outputs": [
        {
          "name": "stdout",
          "output_type": "stream",
          "text": [
            "0\n"
          ]
        }
      ],
      "source": [
        "print(Person.number_of_people)"
      ]
    },
    {
      "cell_type": "code",
      "execution_count": null,
      "id": "cf9d9f84-677f-4bc1-a3a3-4f96489279d9",
      "metadata": {
        "id": "cf9d9f84-677f-4bc1-a3a3-4f96489279d9"
      },
      "outputs": [],
      "source": [
        "Person.number_of_people = 8"
      ]
    },
    {
      "cell_type": "code",
      "execution_count": null,
      "id": "13137e6f-a150-48dc-b77f-9b16024e1d19",
      "metadata": {
        "id": "13137e6f-a150-48dc-b77f-9b16024e1d19",
        "outputId": "bd9ed574-019a-4744-daaf-fdec1611bec9"
      },
      "outputs": [
        {
          "name": "stdout",
          "output_type": "stream",
          "text": [
            "8\n"
          ]
        }
      ],
      "source": [
        "print(p2.number_of_people)"
      ]
    },
    {
      "cell_type": "code",
      "execution_count": null,
      "id": "9e8a2238-e0da-4469-9a6f-abc7a47e548e",
      "metadata": {
        "id": "9e8a2238-e0da-4469-9a6f-abc7a47e548e",
        "outputId": "03ad0114-78e4-4c06-829e-177e2fb93ee2"
      },
      "outputs": [
        {
          "name": "stdout",
          "output_type": "stream",
          "text": [
            "8\n"
          ]
        }
      ],
      "source": [
        "print(p1.number_of_people)"
      ]
    },
    {
      "cell_type": "markdown",
      "id": "fffc9530-e172-4a6f-9c03-9c8b6655c937",
      "metadata": {
        "id": "fffc9530-e172-4a6f-9c03-9c8b6655c937"
      },
      "source": [
        "Can be used for keeping track of the number of objects created or create a global contant value"
      ]
    },
    {
      "cell_type": "code",
      "execution_count": null,
      "id": "51892e90-6b33-4c5e-9df7-298bd35f37a8",
      "metadata": {
        "id": "51892e90-6b33-4c5e-9df7-298bd35f37a8"
      },
      "outputs": [],
      "source": [
        "class Person:\n",
        "    number_of_people = 0\n",
        "    def __init__(self, name):\n",
        "        self.name = name\n",
        "        Person.number_of_people += 1"
      ]
    },
    {
      "cell_type": "code",
      "execution_count": null,
      "id": "c4d2095f-1bd9-4930-97d5-c444989c9cbc",
      "metadata": {
        "id": "c4d2095f-1bd9-4930-97d5-c444989c9cbc"
      },
      "outputs": [],
      "source": [
        "p1 = Person(\"Tim\")\n",
        "p2 = Person(\"Jill\")"
      ]
    },
    {
      "cell_type": "code",
      "execution_count": null,
      "id": "a6b69033-894a-4171-aafb-72809b75294a",
      "metadata": {
        "id": "a6b69033-894a-4171-aafb-72809b75294a",
        "outputId": "a1816f23-283b-42f4-c922-658603d19b09"
      },
      "outputs": [
        {
          "name": "stdout",
          "output_type": "stream",
          "text": [
            "2\n"
          ]
        }
      ],
      "source": [
        "print(Person.number_of_people)"
      ]
    },
    {
      "cell_type": "markdown",
      "id": "017096cc-59dd-41db-bd2f-db950005d239",
      "metadata": {
        "id": "017096cc-59dd-41db-bd2f-db950005d239"
      },
      "source": [
        "# Class Methods"
      ]
    },
    {
      "cell_type": "code",
      "execution_count": 4,
      "id": "bdb53d0e-dd5c-4f28-a96a-16a45974d6c1",
      "metadata": {
        "id": "bdb53d0e-dd5c-4f28-a96a-16a45974d6c1"
      },
      "outputs": [],
      "source": [
        "class Person:\n",
        "    number_of_people = 0\n",
        "\n",
        "    def __init__(self, name):\n",
        "        self.name = name\n",
        "        Person.add_person()\n",
        "\n",
        "    @classmethod\n",
        "    def number_of_people(cls):\n",
        "        return cls.number_of_people\n",
        "\n",
        "    @classmethod\n",
        "    def add_person(cls):\n",
        "        cls.number_of_people += 1"
      ]
    },
    {
      "cell_type": "markdown",
      "id": "caf6e58d-c6d1-4eac-8206-65852eb67101",
      "metadata": {
        "id": "caf6e58d-c6d1-4eac-8206-65852eb67101"
      },
      "source": [
        "This is not going to acting on a particular instance. it acts on class itself. that is why cls is written instead of self. Example usage : They can be used for returning and managing class attributes"
      ]
    },
    {
      "cell_type": "code",
      "execution_count": 3,
      "id": "b37d2110-9d6f-46fb-a1e1-1f3458446615",
      "metadata": {
        "colab": {
          "base_uri": "https://localhost:8080/",
          "height": 121
        },
        "id": "b37d2110-9d6f-46fb-a1e1-1f3458446615",
        "outputId": "a0650f73-c299-4039-8c35-e595035d5bf3"
      },
      "outputs": [
        {
          "output_type": "execute_result",
          "data": {
            "text/plain": [
              "<bound method Person.number_of_people of <class '__main__.Person'>>"
            ],
            "text/html": [
              "<div style=\"max-width:800px; border: 1px solid var(--colab-border-color);\"><style>\n",
              "      pre.function-repr-contents {\n",
              "        overflow-x: auto;\n",
              "        padding: 8px 12px;\n",
              "        max-height: 500px;\n",
              "      }\n",
              "\n",
              "      pre.function-repr-contents.function-repr-contents-collapsed {\n",
              "        cursor: pointer;\n",
              "        max-height: 100px;\n",
              "      }\n",
              "    </style>\n",
              "    <pre style=\"white-space: initial; background:\n",
              "         var(--colab-secondary-surface-color); padding: 8px 12px;\n",
              "         border-bottom: 1px solid var(--colab-border-color);\"><b>Person.number_of_people</b><br/>def number_of_people(cls)</pre><pre class=\"function-repr-contents function-repr-contents-collapsed\" style=\"\"><a class=\"filepath\" style=\"display:none\" href=\"#\">/content/&lt;ipython-input-1-a3ea76616227&gt;</a>&lt;no docstring&gt;</pre></div>"
            ]
          },
          "metadata": {},
          "execution_count": 3
        }
      ],
      "source": [
        "Person.number_of_people"
      ]
    },
    {
      "cell_type": "code",
      "execution_count": null,
      "id": "ebed35f4-728d-4b8c-88d9-e2b54f838c4a",
      "metadata": {
        "id": "ebed35f4-728d-4b8c-88d9-e2b54f838c4a"
      },
      "outputs": [],
      "source": []
    },
    {
      "cell_type": "markdown",
      "source": [
        "# Static Methods\n",
        "Method that are not attached to any individual object. But are invoked on class itself\n",
        "They do something. They don't change anything."
      ],
      "metadata": {
        "id": "S1Hv8YP4IN0-"
      },
      "id": "S1Hv8YP4IN0-"
    },
    {
      "cell_type": "code",
      "source": [
        "class Math:\n",
        "  @staticmethod\n",
        "  def add5(x):\n",
        "    return x + 5\n",
        "\n",
        "  @staticmethod\n",
        "  def pr():\n",
        "    print(\"run\")\n",
        "\n"
      ],
      "metadata": {
        "id": "ODV9X4F1IPkE"
      },
      "id": "ODV9X4F1IPkE",
      "execution_count": 11,
      "outputs": []
    },
    {
      "cell_type": "code",
      "source": [
        "print(Math.add5(5)) # No need to access using instance"
      ],
      "metadata": {
        "colab": {
          "base_uri": "https://localhost:8080/"
        },
        "id": "5X_x7N2aIyb1",
        "outputId": "dfc093ff-9b79-438f-d697-707c094642ec"
      },
      "id": "5X_x7N2aIyb1",
      "execution_count": 10,
      "outputs": [
        {
          "output_type": "stream",
          "name": "stdout",
          "text": [
            "10\n"
          ]
        }
      ]
    },
    {
      "cell_type": "code",
      "source": [
        "Math.pr()"
      ],
      "metadata": {
        "colab": {
          "base_uri": "https://localhost:8080/"
        },
        "id": "ndpP1PcdI0yE",
        "outputId": "3cec147c-563e-42da-beb9-8a6dbac00a1e"
      },
      "id": "ndpP1PcdI0yE",
      "execution_count": 12,
      "outputs": [
        {
          "output_type": "stream",
          "name": "stdout",
          "text": [
            "run\n"
          ]
        }
      ]
    },
    {
      "cell_type": "markdown",
      "source": [
        "# Predefined Functions\n",
        "\n",
        "\\_\\_str\\_\\_() : Gets invoked when you convert a class to a string"
      ],
      "metadata": {
        "id": "Xf_ljMjJN-vq"
      },
      "id": "Xf_ljMjJN-vq"
    },
    {
      "cell_type": "code",
      "source": [
        "class Pet:\n",
        "    def __init__(self, name, age):\n",
        "        self.name = name\n",
        "        self.age = age\n",
        "    def __str__(self):\n",
        "      print(\"Converting to string\")\n",
        "      return self.name + \" \" + str(self.age)"
      ],
      "metadata": {
        "id": "5RK-mI37JC6v"
      },
      "id": "5RK-mI37JC6v",
      "execution_count": 29,
      "outputs": []
    },
    {
      "cell_type": "code",
      "source": [
        "p = Pet(\"Parrot\", 6)\n",
        "print(p)"
      ],
      "metadata": {
        "colab": {
          "base_uri": "https://localhost:8080/"
        },
        "id": "xJuAACj5OgG-",
        "outputId": "6ef4faf8-c098-4854-fe51-d845342012eb"
      },
      "id": "xJuAACj5OgG-",
      "execution_count": 30,
      "outputs": [
        {
          "output_type": "stream",
          "name": "stdout",
          "text": [
            "Converting to string\n",
            "Parrot 6\n"
          ]
        }
      ]
    },
    {
      "cell_type": "code",
      "source": [
        "class Pet:\n",
        "    def __init__(self, name, age):\n",
        "        self.name = name\n",
        "        self.age = age\n",
        ""
      ],
      "metadata": {
        "id": "foDGmfb6OkkX"
      },
      "id": "foDGmfb6OkkX",
      "execution_count": 31,
      "outputs": []
    },
    {
      "cell_type": "code",
      "source": [
        "p = Pet(\"Parrot\", 6)\n",
        "print(p) # when we don't have __str__ we get memory address"
      ],
      "metadata": {
        "colab": {
          "base_uri": "https://localhost:8080/"
        },
        "id": "n-fXHkpGO18-",
        "outputId": "0477da23-36a4-4736-a237-072adc715a89"
      },
      "id": "n-fXHkpGO18-",
      "execution_count": 32,
      "outputs": [
        {
          "output_type": "stream",
          "name": "stdout",
          "text": [
            "<__main__.Pet object at 0x78bbf5db3910>\n"
          ]
        }
      ]
    },
    {
      "cell_type": "markdown",
      "source": [
        "\\_\\_eq\\_\\_ : Comparing\n",
        "\n",
        "If we don't override it compares using memory location"
      ],
      "metadata": {
        "id": "j1pRjx6sPK4i"
      },
      "id": "j1pRjx6sPK4i"
    },
    {
      "cell_type": "code",
      "source": [
        "class Pet:\n",
        "    def __init__(self, name, age):\n",
        "        self.name = name\n",
        "        self.age = age\n",
        "    def __eq__(self, other):\n",
        "      if self.name == other.name and self.age == other.age:\n",
        "        return True\n",
        "      else:\n",
        "        return False"
      ],
      "metadata": {
        "id": "wu6zrXliO2Yb"
      },
      "id": "wu6zrXliO2Yb",
      "execution_count": 34,
      "outputs": []
    },
    {
      "cell_type": "markdown",
      "source": [
        "# Encapsulation\n",
        "\n",
        "In python we do it using property\n",
        "\n",
        "\n",
        "Property is just like a normal attribute. But instead of it being just a variable it has an extra layer and it allows to abstract the variable itself using methods."
      ],
      "metadata": {
        "id": "3tjF5zciQfaX"
      },
      "id": "3tjF5zciQfaX"
    },
    {
      "cell_type": "code",
      "source": [
        "class Customer:\n",
        "  def __init__(self, name, membership_type):\n",
        "    self.name = name\n",
        "    self.membership_type = membership_type\n",
        "\n",
        "  @property\n",
        "  def name(self):\n",
        "    return self._name # if someting with _ this is private\n",
        "\n",
        "  @name.setter\n",
        "  def name(self, name):\n",
        "    self._name = name\n",
        "\n",
        "  @name.deleter\n",
        "  def name(self):\n",
        "    del self._name\n",
        "\n",
        "  def update_membership(self, new_membership):\n",
        "    print (\"Calculating costs\")\n",
        "    self.membership_type = new_membership\n",
        "\n",
        "  def __str__(self) :\n",
        "    return self. name\n",
        "\n",
        "  def print_all_customers (customers) :\n",
        "    for customer in customers:\n",
        "\n",
        "      print (customer)"
      ],
      "metadata": {
        "id": "5tNMM3_qPgo1"
      },
      "id": "5tNMM3_qPgo1",
      "execution_count": 48,
      "outputs": []
    },
    {
      "cell_type": "code",
      "source": [
        "customers = [Customer(\"Caleb\", \"Gold\"),\n",
        "             Customer(\"John\", \"Silver\")]"
      ],
      "metadata": {
        "id": "9plr146nRx8T"
      },
      "id": "9plr146nRx8T",
      "execution_count": 49,
      "outputs": []
    },
    {
      "cell_type": "code",
      "source": [
        "print(customers[0].name)"
      ],
      "metadata": {
        "colab": {
          "base_uri": "https://localhost:8080/"
        },
        "id": "TKIgEJrCSHmU",
        "outputId": "87509b30-388b-4110-ba21-de5170d5d33d"
      },
      "id": "TKIgEJrCSHmU",
      "execution_count": 50,
      "outputs": [
        {
          "output_type": "stream",
          "name": "stdout",
          "text": [
            "Caleb\n"
          ]
        }
      ]
    },
    {
      "cell_type": "code",
      "source": [
        "del customers[0].name"
      ],
      "metadata": {
        "id": "9zk0zQepSO31"
      },
      "id": "9zk0zQepSO31",
      "execution_count": 51,
      "outputs": []
    },
    {
      "cell_type": "code",
      "source": [],
      "metadata": {
        "id": "f6sy9AwzSxsP"
      },
      "id": "f6sy9AwzSxsP",
      "execution_count": null,
      "outputs": []
    }
  ],
  "metadata": {
    "kernelspec": {
      "display_name": "Python 3",
      "name": "python3"
    },
    "language_info": {
      "name": "python"
    },
    "colab": {
      "provenance": []
    }
  },
  "nbformat": 4,
  "nbformat_minor": 5
}