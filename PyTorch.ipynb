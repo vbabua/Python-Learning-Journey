{
 "cells": [
  {
   "cell_type": "markdown",
   "id": "f3f0a7ee",
   "metadata": {},
   "source": [
    "In pyTorch everything is tensor\n",
    "\n",
    "Tensor can have different dimensions\n",
    "\n",
    "Empty Tensor"
   ]
  },
  {
   "cell_type": "code",
   "execution_count": 1,
   "id": "b50f003e",
   "metadata": {},
   "outputs": [
    {
     "name": "stdout",
     "output_type": "stream",
     "text": [
      "tensor([0.])\n"
     ]
    }
   ],
   "source": [
    "import torch\n",
    "\n",
    "x = torch.empty(1)\n",
    "print(x)"
   ]
  },
  {
   "cell_type": "markdown",
   "id": "07b3828e",
   "metadata": {},
   "source": [
    "The value is not initialized yet"
   ]
  },
  {
   "cell_type": "markdown",
   "id": "3dd2acf6",
   "metadata": {},
   "source": [
    "Can change size \\\n",
    "if if we specify 3 it will be like 1 D tensor with 3 elements"
   ]
  },
  {
   "cell_type": "code",
   "execution_count": 2,
   "id": "9553bd5a",
   "metadata": {},
   "outputs": [
    {
     "name": "stdout",
     "output_type": "stream",
     "text": [
      "tensor([0., 0., 0.])\n"
     ]
    }
   ],
   "source": [
    "x = torch.empty(3)\n",
    "print(x)"
   ]
  },
  {
   "cell_type": "markdown",
   "id": "8289df45",
   "metadata": {},
   "source": [
    "Can make multidimensional"
   ]
  },
  {
   "cell_type": "code",
   "execution_count": 3,
   "id": "fe2d7c46",
   "metadata": {},
   "outputs": [
    {
     "name": "stdout",
     "output_type": "stream",
     "text": [
      "tensor([[0., 0., 0.],\n",
      "        [0., 0., 0.]])\n"
     ]
    }
   ],
   "source": [
    "x = torch.empty(2,3) #2 D\n",
    "print(x)"
   ]
  },
  {
   "cell_type": "code",
   "execution_count": 4,
   "id": "d17ef89e",
   "metadata": {},
   "outputs": [
    {
     "name": "stdout",
     "output_type": "stream",
     "text": [
      "tensor([[[[0., 0., 0., 0., 0.],\n",
      "          [0., 0., 0., 0., 0.],\n",
      "          [0., 0., 0., 0., 0.],\n",
      "          [0., 0., 0., 0., 0.]],\n",
      "\n",
      "         [[0., 0., 0., 0., 0.],\n",
      "          [0., 0., 0., 0., 0.],\n",
      "          [0., 0., 0., 0., 0.],\n",
      "          [0., 0., 0., 0., 0.]],\n",
      "\n",
      "         [[0., 0., 0., 0., 0.],\n",
      "          [0., 0., 0., 0., 0.],\n",
      "          [0., 0., 0., 0., 0.],\n",
      "          [0., 0., 0., 0., 0.]]],\n",
      "\n",
      "\n",
      "        [[[0., 0., 0., 0., 0.],\n",
      "          [0., 0., 0., 0., 0.],\n",
      "          [0., 0., 0., 0., 0.],\n",
      "          [0., 0., 0., 0., 0.]],\n",
      "\n",
      "         [[0., 0., 0., 0., 0.],\n",
      "          [0., 0., 0., 0., 0.],\n",
      "          [0., 0., 0., 0., 0.],\n",
      "          [0., 0., 0., 0., 0.]],\n",
      "\n",
      "         [[0., 0., 0., 0., 0.],\n",
      "          [0., 0., 0., 0., 0.],\n",
      "          [0., 0., 0., 0., 0.],\n",
      "          [0., 0., 0., 0., 0.]]]])\n"
     ]
    }
   ],
   "source": [
    "#4D \n",
    "x = torch.empty(2,3, 4, 5) \n",
    "print(x)"
   ]
  },
  {
   "cell_type": "markdown",
   "id": "ba7ae150",
   "metadata": {},
   "source": [
    "# Random Value Tensor"
   ]
  },
  {
   "cell_type": "code",
   "execution_count": 5,
   "id": "e035e467",
   "metadata": {},
   "outputs": [
    {
     "name": "stdout",
     "output_type": "stream",
     "text": [
      "tensor([[0.6404, 0.3337],\n",
      "        [0.0721, 0.5862]])\n"
     ]
    }
   ],
   "source": [
    "x = torch.rand(2, 2)\n",
    "print(x)"
   ]
  },
  {
   "cell_type": "code",
   "execution_count": 6,
   "id": "26c0fc32",
   "metadata": {},
   "outputs": [
    {
     "name": "stdout",
     "output_type": "stream",
     "text": [
      "torch.Size([3])\n"
     ]
    }
   ],
   "source": [
    "x = torch.rand(3)\n",
    "print(x.shape)"
   ]
  },
  {
   "cell_type": "markdown",
   "id": "f59516bd",
   "metadata": {},
   "source": [
    "# Tensor with zeros"
   ]
  },
  {
   "cell_type": "code",
   "execution_count": 7,
   "id": "06756fa0",
   "metadata": {},
   "outputs": [
    {
     "name": "stdout",
     "output_type": "stream",
     "text": [
      "tensor([[0., 0.],\n",
      "        [0., 0.]])\n"
     ]
    }
   ],
   "source": [
    "x = torch.zeros(2, 2)\n",
    "print(x)"
   ]
  },
  {
   "cell_type": "markdown",
   "id": "92c19487",
   "metadata": {},
   "source": [
    "# Torch with ones"
   ]
  },
  {
   "cell_type": "code",
   "execution_count": 8,
   "id": "b0912a8e",
   "metadata": {},
   "outputs": [
    {
     "name": "stdout",
     "output_type": "stream",
     "text": [
      "tensor([[1., 1.],\n",
      "        [1., 1.]])\n"
     ]
    }
   ],
   "source": [
    "x = torch.ones(2, 2)\n",
    "print(x)"
   ]
  },
  {
   "cell_type": "markdown",
   "id": "0833133f",
   "metadata": {},
   "source": [
    "# Specify datatype"
   ]
  },
  {
   "cell_type": "markdown",
   "id": "232f0410",
   "metadata": {},
   "source": [
    "By default it is float32"
   ]
  },
  {
   "cell_type": "code",
   "execution_count": 9,
   "id": "dee8673d",
   "metadata": {},
   "outputs": [
    {
     "name": "stdout",
     "output_type": "stream",
     "text": [
      "torch.float32\n"
     ]
    }
   ],
   "source": [
    "print(x.dtype)"
   ]
  },
  {
   "cell_type": "code",
   "execution_count": 10,
   "id": "86153f76",
   "metadata": {},
   "outputs": [
    {
     "name": "stdout",
     "output_type": "stream",
     "text": [
      "torch.float64\n"
     ]
    }
   ],
   "source": [
    "x = torch.ones(2, 2, dtype = torch.double)\n",
    "print(x.dtype)"
   ]
  },
  {
   "cell_type": "markdown",
   "id": "118c3860",
   "metadata": {},
   "source": [
    "# Size\n"
   ]
  },
  {
   "cell_type": "code",
   "execution_count": 11,
   "id": "8de00958",
   "metadata": {},
   "outputs": [
    {
     "name": "stdout",
     "output_type": "stream",
     "text": [
      "torch.Size([2, 2])\n"
     ]
    }
   ],
   "source": [
    "print(x.size())"
   ]
  },
  {
   "cell_type": "markdown",
   "id": "9666d2bd",
   "metadata": {},
   "source": [
    "# Create Tensor from data"
   ]
  },
  {
   "cell_type": "code",
   "execution_count": 12,
   "id": "97875e5f",
   "metadata": {},
   "outputs": [
    {
     "data": {
      "text/plain": [
       "tensor([2, 3])"
      ]
     },
     "execution_count": 12,
     "metadata": {},
     "output_type": "execute_result"
    }
   ],
   "source": [
    "x = torch.tensor([2, 3])\n",
    "x"
   ]
  },
  {
   "cell_type": "markdown",
   "id": "7e081aef",
   "metadata": {},
   "source": [
    "# Basic Operations"
   ]
  },
  {
   "cell_type": "code",
   "execution_count": 13,
   "id": "f9bd375b",
   "metadata": {},
   "outputs": [
    {
     "name": "stdout",
     "output_type": "stream",
     "text": [
      "tensor([[0.1029, 0.7721],\n",
      "        [0.2223, 0.9194]])\n",
      "tensor([[0.0761, 0.9145],\n",
      "        [0.9171, 0.1722]])\n"
     ]
    }
   ],
   "source": [
    "x = torch.rand(2, 2)\n",
    "y = torch.rand(2, 2)\n",
    "print(x)\n",
    "print(y)"
   ]
  },
  {
   "cell_type": "markdown",
   "id": "20d468df",
   "metadata": {},
   "source": [
    "## Addition\n",
    "2 ways\n",
    "1. +\n",
    "2. torch.add()\n",
    "3. Inplace addition"
   ]
  },
  {
   "cell_type": "code",
   "execution_count": 14,
   "id": "ad22fa4a",
   "metadata": {},
   "outputs": [
    {
     "name": "stdout",
     "output_type": "stream",
     "text": [
      "tensor([[0.1790, 1.6867],\n",
      "        [1.1394, 1.0916]])\n"
     ]
    }
   ],
   "source": [
    "z = x + y # elementwise adddtion\n",
    "print(z)"
   ]
  },
  {
   "cell_type": "code",
   "execution_count": 15,
   "id": "7f068f0f",
   "metadata": {},
   "outputs": [
    {
     "name": "stdout",
     "output_type": "stream",
     "text": [
      "tensor([[0.1790, 1.6867],\n",
      "        [1.1394, 1.0916]])\n"
     ]
    }
   ],
   "source": [
    "z = torch.add(x, y)\n",
    "print(z)"
   ]
  },
  {
   "cell_type": "code",
   "execution_count": 16,
   "id": "b2b6122c",
   "metadata": {},
   "outputs": [
    {
     "data": {
      "text/plain": [
       "tensor([[0.1790, 1.6867],\n",
       "        [1.1394, 1.0916]])"
      ]
     },
     "execution_count": 16,
     "metadata": {},
     "output_type": "execute_result"
    }
   ],
   "source": [
    "#Inplace addition\n",
    "y.add_(x)"
   ]
  },
  {
   "cell_type": "markdown",
   "id": "ae3e40f9",
   "metadata": {},
   "source": [
    "<font color='red'>**In pytorch every operation that has a trailing underscore will do inplace operation. This will modify the variable it is applied on**</font>"
   ]
  },
  {
   "cell_type": "markdown",
   "id": "a6dc7fa9",
   "metadata": {},
   "source": [
    "## Substraction\n",
    "1. - \n",
    "2. torch.sub()"
   ]
  },
  {
   "cell_type": "code",
   "execution_count": 17,
   "id": "45f4fccf",
   "metadata": {},
   "outputs": [],
   "source": [
    "z = x - y\n",
    "z = torch.sub(x, y)"
   ]
  },
  {
   "cell_type": "markdown",
   "id": "43090a56",
   "metadata": {},
   "source": [
    "## Multiplication"
   ]
  },
  {
   "cell_type": "code",
   "execution_count": 18,
   "id": "9c8ad93c",
   "metadata": {},
   "outputs": [],
   "source": [
    "z = x * y\n",
    "z = torch.mul(x, y)"
   ]
  },
  {
   "cell_type": "markdown",
   "id": "f72e6d71",
   "metadata": {},
   "source": [
    "## Division"
   ]
  },
  {
   "cell_type": "code",
   "execution_count": 19,
   "id": "c9e16278",
   "metadata": {},
   "outputs": [],
   "source": [
    "z = x / y\n",
    "z = torch.div(x, y)"
   ]
  },
  {
   "cell_type": "markdown",
   "id": "e95541b7",
   "metadata": {},
   "source": [
    "# Slicing"
   ]
  },
  {
   "cell_type": "code",
   "execution_count": 20,
   "id": "463e4a32",
   "metadata": {},
   "outputs": [
    {
     "name": "stdout",
     "output_type": "stream",
     "text": [
      "tensor([[0.4046, 0.7178, 0.9137],\n",
      "        [0.6489, 0.7056, 0.2090],\n",
      "        [0.3880, 0.2711, 0.8968],\n",
      "        [0.8679, 0.2136, 0.0770],\n",
      "        [0.1040, 0.6223, 0.2250]])\n",
      "tensor([0.4046, 0.6489, 0.3880, 0.8679, 0.1040])\n",
      "tensor(0.7056)\n"
     ]
    }
   ],
   "source": [
    "x = torch.rand(5, 3)\n",
    "print(x)\n",
    "print(x[:, 0])\n",
    "print(x[1,1])"
   ]
  },
  {
   "cell_type": "markdown",
   "id": "52c716e9",
   "metadata": {},
   "source": [
    "**If we have a tensor with only one element we can also call .item() to get the actual value**"
   ]
  },
  {
   "cell_type": "code",
   "execution_count": 21,
   "id": "7a061d1d",
   "metadata": {},
   "outputs": [
    {
     "name": "stdout",
     "output_type": "stream",
     "text": [
      "0.7056376338005066\n"
     ]
    }
   ],
   "source": [
    "print(x[1,1].item())"
   ]
  },
  {
   "cell_type": "markdown",
   "id": "35bcdf2a",
   "metadata": {},
   "source": [
    "# Reshaping a Tensor"
   ]
  },
  {
   "cell_type": "code",
   "execution_count": 22,
   "id": "1d58de44",
   "metadata": {},
   "outputs": [
    {
     "name": "stdout",
     "output_type": "stream",
     "text": [
      "tensor([[0.4001, 0.1238, 0.0553, 0.6445],\n",
      "        [0.0835, 0.9227, 0.5145, 0.8867],\n",
      "        [0.5466, 0.2477, 0.5236, 0.4544],\n",
      "        [0.0112, 0.6069, 0.2273, 0.4055]])\n",
      "tensor([0.4001, 0.1238, 0.0553, 0.6445, 0.0835, 0.9227, 0.5145, 0.8867, 0.5466,\n",
      "        0.2477, 0.5236, 0.4544, 0.0112, 0.6069, 0.2273, 0.4055])\n",
      "torch.Size([2, 8])\n"
     ]
    }
   ],
   "source": [
    "x = torch.rand(4, 4)\n",
    "print(x)\n",
    "y = x.view(16) # No of elements must be the same\n",
    "print(y)\n",
    "y = x.view(-1, 8) \n",
    "print(y.size())"
   ]
  },
  {
   "cell_type": "markdown",
   "id": "277ab519",
   "metadata": {},
   "source": [
    "if you don't want to specify a particualr dimension then put -1 PyTorch will automatically determine it for you"
   ]
  },
  {
   "cell_type": "markdown",
   "id": "91953203",
   "metadata": {},
   "source": [
    "# Numpy to Torch tensor and vice versa"
   ]
  },
  {
   "cell_type": "code",
   "execution_count": 23,
   "id": "3294da84",
   "metadata": {},
   "outputs": [
    {
     "name": "stdout",
     "output_type": "stream",
     "text": [
      "tensor([1., 1., 1., 1., 1.])\n",
      "[1. 1. 1. 1. 1.]\n"
     ]
    }
   ],
   "source": [
    "import numpy as np\n",
    "a = torch.ones(5)\n",
    "print(a)\n",
    "b = a.numpy()\n",
    "print(b)"
   ]
  },
  {
   "cell_type": "markdown",
   "id": "941e5448",
   "metadata": {},
   "source": [
    "If the tensor is on CPU not the GPU both objects will share the same memory location\n",
    "eg : if we do inplace operations "
   ]
  },
  {
   "cell_type": "code",
   "execution_count": 24,
   "id": "cf93e3d9",
   "metadata": {},
   "outputs": [
    {
     "name": "stdout",
     "output_type": "stream",
     "text": [
      "[1. 1. 1. 1. 1.]\n",
      "tensor([1., 1., 1., 1., 1.], dtype=torch.float64)\n",
      "tensor([1., 1., 1., 1., 1.], dtype=torch.float64)\n"
     ]
    }
   ],
   "source": [
    "a = np.ones(5)\n",
    "print(a)\n",
    "b = torch.from_numpy(a)\n",
    "print(b)\n",
    "# can also specify data type\n",
    "#b = torch.from_numpy(a, dtype )\n",
    "print(b)\n",
    "# Be careful it share the same memory"
   ]
  },
  {
   "cell_type": "markdown",
   "id": "ff68b941",
   "metadata": {},
   "source": [
    " You can also do operations on GPU\\\n",
    " Can do if you have cuda\\\n",
    " if toch.cuda.is_available():\\\n",
    "     device = torch.device(\"cuda\")\\\n",
    "     x = torch.ones(5, device = device) # Create tensor on GPU\\\n",
    "     y = torch.ones(5) # create it and move it to GPU\\\n",
    "     y = y.to(device)\\\n",
    "     z = x + y # Performed on GPU and much faster\\\n",
    "     z.numpy() # error since numpy can only handle CPU\\\n",
    "     # can move it to CPU\\\n",
    "     z = .to(\"CPU\")\\\n",
    "     "
   ]
  },
  {
   "cell_type": "code",
   "execution_count": 25,
   "id": "7450686a",
   "metadata": {},
   "outputs": [
    {
     "name": "stdout",
     "output_type": "stream",
     "text": [
      "tensor([1., 1., 1., 1., 1.], requires_grad=True)\n"
     ]
    }
   ],
   "source": [
    "x = torch.ones(5, requires_grad = True) \n",
    "print(x)"
   ]
  },
  {
   "cell_type": "markdown",
   "id": "caa148ca",
   "metadata": {},
   "source": [
    "Tell PyTorch it will need to calculate gradients later in your optimization steps\\\n",
    "When you have a variable in your model that you need to optimize use requires_grad\n",
    "\n"
   ]
  },
  {
   "cell_type": "markdown",
   "id": "c827da74",
   "metadata": {},
   "source": [
    "# Autograd package"
   ]
  },
  {
   "cell_type": "markdown",
   "id": "d690b51b",
   "metadata": {},
   "source": [
    "How we can calcuate gradients with it"
   ]
  },
  {
   "cell_type": "code",
   "execution_count": 26,
   "id": "3d77800f",
   "metadata": {},
   "outputs": [
    {
     "name": "stdout",
     "output_type": "stream",
     "text": [
      "tensor([ 0.1407, -0.3497,  0.4631], requires_grad=True)\n"
     ]
    }
   ],
   "source": [
    "x = torch.randn(3, requires_grad = True)\n",
    "print(x)"
   ]
  },
  {
   "cell_type": "markdown",
   "id": "fd9eaa99",
   "metadata": {},
   "source": [
    "whenever we do computations for this tensor pytorch will create a computational graph for us"
   ]
  },
  {
   "cell_type": "code",
   "execution_count": 27,
   "id": "2a3a9723",
   "metadata": {},
   "outputs": [],
   "source": [
    "y = x + 2# will create a computational graph"
   ]
  },
  {
   "attachments": {
    "image.png": {
     "image/png": "[encoded data removed]"
    }
   },
   "cell_type": "markdown",
   "id": "6118ece1",
   "metadata": {},
   "source": [
    "![image.png](attachment:image.png)"
   ]
  },
  {
   "cell_type": "markdown",
   "id": "9180ab9f",
   "metadata": {},
   "source": [
    "for each node we have inputs and output. Our inputs are x and 2 and output is y. with backpropogation we can calculate gradients. In forward pass we calculate output y. since we specify it requires gradient pytorch will automatically create and store a function for us and this function is then used in the backpropogation to get the gradients. y has an attribute graph_fn. This will point to a gradient function and with this function we can calculate gradient in the backward pass"
   ]
  },
  {
   "cell_type": "code",
   "execution_count": 28,
   "id": "74da869b",
   "metadata": {},
   "outputs": [
    {
     "name": "stdout",
     "output_type": "stream",
     "text": [
      "tensor([2.1407, 1.6503, 2.4631], grad_fn=<AddBackward0>)\n"
     ]
    }
   ],
   "source": [
    "print(y) # here grad_fn is AddBackward"
   ]
  },
  {
   "cell_type": "code",
   "execution_count": 29,
   "id": "9245ca90",
   "metadata": {
    "scrolled": true
   },
   "outputs": [
    {
     "name": "stdout",
     "output_type": "stream",
     "text": [
      "tensor([ 9.1648,  5.4470, 12.1338], grad_fn=<MulBackward0>)\n",
      "tensor(8.9152, grad_fn=<MeanBackward0>)\n"
     ]
    }
   ],
   "source": [
    "z = y * y *2\n",
    "print(z)\n",
    "z = z.mean()\n",
    "print(z)"
   ]
  },
  {
   "cell_type": "code",
   "execution_count": null,
   "id": "8b8e993a",
   "metadata": {},
   "outputs": [],
   "source": []
  },
  {
   "cell_type": "markdown",
   "id": "336d49ae",
   "metadata": {},
   "source": [
    "To calculate all we need to do is use z.backward(). This will then calculate the gradient of z with respect to z"
   ]
  },
  {
   "cell_type": "code",
   "execution_count": 30,
   "id": "b631fe30",
   "metadata": {},
   "outputs": [
    {
     "name": "stdout",
     "output_type": "stream",
     "text": [
      "tensor([2.8542, 2.2004, 3.2841])\n"
     ]
    }
   ],
   "source": [
    "# since z is a scalar value we don't have to use an argument \n",
    "#for vector function\n",
    "z.backward() # dz/dx\n",
    "print(x.grad)"
   ]
  },
  {
   "cell_type": "markdown",
   "id": "9354cfdc",
   "metadata": {},
   "source": [
    "if we put requires_grad = false and try to use the backward() function we will get error saying tensors does not require grad and does not have grad_fn\n",
    "\n",
    "\n",
    "In background it will create a vector jacobian product to get the gradients\\\n",
    "We will have Jacobian matrix with the partial derivatives and then we multiply this with a gradient vector and we will get a final vector that we are interested in \n",
    "\n",
    "\n",
    "\n"
   ]
  },
  {
   "attachments": {
    "image.png": {
     "image/png": "[encoded data removed]"
    }
   },
   "cell_type": "markdown",
   "id": "58c22b13",
   "metadata": {},
   "source": [
    "![image.png](attachment:image.png)"
   ]
  },
  {
   "cell_type": "code",
   "execution_count": 31,
   "id": "58191ba1",
   "metadata": {},
   "outputs": [
    {
     "name": "stdout",
     "output_type": "stream",
     "text": [
      "tensor([1.1379, 8.0789, 0.0103])\n"
     ]
    }
   ],
   "source": [
    "x = torch.randn(3, requires_grad = True)\n",
    "y = x + 2\n",
    "z = y * y * 2\n",
    "v = torch.tensor([0.1, 1.0, 0.001], dtype = torch.float32)\n",
    "z.backward(v)\n",
    "print(x.grad)"
   ]
  },
  {
   "cell_type": "markdown",
   "id": "c9728e27",
   "metadata": {},
   "source": [
    "How to prevent PyTorch from tracking history and calculating grad_fn\n",
    "\n",
    "sometimes during our training loop when we want to update our weights and this operation should not be part of gradient descent\n",
    "\n",
    "1. Call the x.requires_grad_(False)\n",
    "2. x.detach()\n",
    "3. wrap in with torch.np_grad():"
   ]
  },
  {
   "cell_type": "code",
   "execution_count": 32,
   "id": "9194fc9f",
   "metadata": {},
   "outputs": [
    {
     "name": "stdout",
     "output_type": "stream",
     "text": [
      "tensor([0.8448, 0.0197, 0.5799], requires_grad=True)\n",
      "tensor([0.8448, 0.0197, 0.5799])\n"
     ]
    }
   ],
   "source": [
    "print(x)\n",
    "x.requires_grad_(False)\n",
    "print(x)"
   ]
  },
  {
   "cell_type": "code",
   "execution_count": 33,
   "id": "49c046c4",
   "metadata": {},
   "outputs": [
    {
     "name": "stdout",
     "output_type": "stream",
     "text": [
      "tensor([-1.2527, -0.7609,  0.9321])\n"
     ]
    }
   ],
   "source": [
    "x = torch.randn(3, requires_grad = True)\n",
    "y = x.detach()\n",
    "print(y)"
   ]
  },
  {
   "cell_type": "code",
   "execution_count": 34,
   "id": "c4609433",
   "metadata": {},
   "outputs": [
    {
     "name": "stdout",
     "output_type": "stream",
     "text": [
      "tensor([3.2514, 0.9217, 3.7640])\n"
     ]
    }
   ],
   "source": [
    "x = torch.randn(3, requires_grad = True)\n",
    "with torch.no_grad():\n",
    "    y = x + 2\n",
    "    print(y)"
   ]
  },
  {
   "cell_type": "markdown",
   "id": "535e487a",
   "metadata": {},
   "source": [
    "Whenever we call backward fns then the gradient for this tensor will be accumulated in the .grad attribute\n",
    "\n"
   ]
  },
  {
   "cell_type": "code",
   "execution_count": 35,
   "id": "d3b8693a",
   "metadata": {},
   "outputs": [
    {
     "name": "stdout",
     "output_type": "stream",
     "text": [
      "tensor([3., 3., 3., 3.])\n"
     ]
    }
   ],
   "source": [
    "weights = torch.ones(4, requires_grad = True)\n",
    "for epoch in range(1):\n",
    "    model_output = (weights * 3).sum()\n",
    "    model_output.backward()\n",
    "    print(weights.grad)"
   ]
  },
  {
   "cell_type": "code",
   "execution_count": 36,
   "id": "f3368684",
   "metadata": {},
   "outputs": [
    {
     "name": "stdout",
     "output_type": "stream",
     "text": [
      "tensor([3., 3., 3., 3.])\n",
      "tensor([6., 6., 6., 6.])\n"
     ]
    }
   ],
   "source": [
    "weights = torch.ones(4, requires_grad = True)\n",
    "for epoch in range(2):\n",
    "    model_output = (weights * 3).sum()\n",
    "    model_output.backward()\n",
    "    print(weights.grad)"
   ]
  },
  {
   "cell_type": "markdown",
   "id": "c0478189",
   "metadata": {},
   "source": [
    "all the values of graidents are summed up and they are clearly incorrent\n",
    "\n",
    "before next iteration we must empty gradinets"
   ]
  },
  {
   "cell_type": "code",
   "execution_count": 37,
   "id": "9d2e67d0",
   "metadata": {},
   "outputs": [
    {
     "name": "stdout",
     "output_type": "stream",
     "text": [
      "tensor([0., 0., 0., 0.])\n"
     ]
    }
   ],
   "source": [
    "weights = torch.ones(4, requires_grad = True)\n",
    "for epoch in range(1):\n",
    "    model_output = (weights * 3).sum()\n",
    "    model_output.backward()\n",
    "    print(weights.grad.zero_())"
   ]
  },
  {
   "cell_type": "markdown",
   "id": "52d92b95",
   "metadata": {},
   "source": [
    "when using optimizer also we must perform this step"
   ]
  },
  {
   "cell_type": "markdown",
   "id": "64da3e72",
   "metadata": {},
   "source": [
    "optimizer = torch.optim.SGD(weights, lr = 0.01)\\\n",
    "optimizer.step()\\\n",
    "optimizer.zero_grad()"
   ]
  },
  {
   "cell_type": "markdown",
   "id": "87488432",
   "metadata": {},
   "source": [
    "# Gradient descent with Autograd"
   ]
  },
  {
   "cell_type": "code",
   "execution_count": 38,
   "id": "bc418513",
   "metadata": {},
   "outputs": [
    {
     "name": "stdout",
     "output_type": "stream",
     "text": [
      "tensor([[1, 4, 9]])\n",
      "torch.Size([1, 3])\n"
     ]
    }
   ],
   "source": [
    "x = torch.tensor([1, 2, 3]).reshape(1,3)\n",
    "z = x*x\n",
    "print(z)\n",
    "print(z.shape)"
   ]
  },
  {
   "cell_type": "code",
   "execution_count": null,
   "id": "ae4e2f0a",
   "metadata": {},
   "outputs": [],
   "source": []
  },
  {
   "cell_type": "code",
   "execution_count": null,
   "id": "4f7876a0",
   "metadata": {},
   "outputs": [],
   "source": []
  },
  {
   "cell_type": "code",
   "execution_count": null,
   "id": "1e4d0fd0",
   "metadata": {},
   "outputs": [],
   "source": []
  },
  {
   "cell_type": "code",
   "execution_count": null,
   "id": "6868ec9c",
   "metadata": {},
   "outputs": [],
   "source": []
  },
  {
   "cell_type": "code",
   "execution_count": null,
   "id": "2acc2c65",
   "metadata": {},
   "outputs": [],
   "source": []
  },
  {
   "cell_type": "code",
   "execution_count": null,
   "id": "2591003e",
   "metadata": {},
   "outputs": [],
   "source": []
  },
  {
   "cell_type": "markdown",
   "id": "fbb5cee0",
   "metadata": {},
   "source": [
    "# Feed forward Neural Network"
   ]
  },
  {
   "cell_type": "code",
   "execution_count": 39,
   "id": "e946b413",
   "metadata": {},
   "outputs": [],
   "source": [
    "import torch\n",
    "import torch.nn as nn\n",
    "import torchvision #For dataset\n",
    "import torchvision.transforms as transforms\n",
    "import matplotlib.pyplot as plt"
   ]
  },
  {
   "cell_type": "code",
   "execution_count": 40,
   "id": "63f1f14f",
   "metadata": {},
   "outputs": [],
   "source": [
    "#Device configuration\n",
    "device = torch.device('cuda' if torch.cuda.is_available() else 'cpu')\n",
    "\n",
    "#Hyper parameters\n",
    "input_size = 784 #Image 28 * 28\n",
    "hidden_size = 100\n",
    "num_classes = 10\n",
    "num_epochs = 2\n",
    "batch_size = 100\n",
    "learning_rate = 0.001"
   ]
  },
  {
   "cell_type": "code",
   "execution_count": 41,
   "id": "aa06358d",
   "metadata": {},
   "outputs": [],
   "source": [
    "#MNIST\n",
    "train_dataset = torchvision.datasets.MNIST(root = './data', train = True, transform = transforms.ToTensor(), download = True)\n",
    "\n"
   ]
  },
  {
   "cell_type": "code",
   "execution_count": 42,
   "id": "e6582fad",
   "metadata": {},
   "outputs": [],
   "source": [
    "test_dataset = torchvision.datasets.MNIST(root = './data', train = False, transform = transforms.ToTensor())\n"
   ]
  },
  {
   "cell_type": "code",
   "execution_count": 43,
   "id": "88c14922",
   "metadata": {},
   "outputs": [
    {
     "name": "stdout",
     "output_type": "stream",
     "text": [
      "torch.Size([100, 1, 28, 28]) torch.Size([100])\n"
     ]
    }
   ],
   "source": [
    "train_loader = torch.utils.data.DataLoader(dataset = train_dataset, batch_size = batch_size, shuffle = True)\n",
    "\n",
    "#Shuffle = false because it does not matter for evaluation\n",
    "test_loader = torch.utils.data.DataLoader(dataset = test_dataset, batch_size = batch_size, shuffle = False)\n",
    "\n",
    "examples = iter(train_loader)\n",
    "\n",
    "samples, labels = examples.next()\n",
    "\n",
    "print(samples.shape, labels.shape)\n",
    "\n",
    "#Batch size is 100\n",
    "#1 because only one channel\n",
    "#28 * 28 image\n",
    "#for each class label we have one value therefore 100\n"
   ]
  },
  {
   "cell_type": "code",
   "execution_count": 44,
   "id": "8b573045",
   "metadata": {},
   "outputs": [
    {
     "data": {
      "image/png": "[encoded data removed]",
      "text/plain": [
       "<Figure size 432x288 with 6 Axes>"
      ]
     },
     "metadata": {
      "needs_background": "light"
     },
     "output_type": "display_data"
    }
   ],
   "source": [
    "for i in range(6):\n",
    "    plt.subplot(2, 3, i+1)\n",
    "    plt.imshow(samples[i][0], cmap = 'gray')\n",
    "plt.show()"
   ]
  },
  {
   "cell_type": "code",
   "execution_count": 45,
   "id": "4b4eba9a",
   "metadata": {},
   "outputs": [],
   "source": [
    "#Fully connected neural netowork with one hidden layer\n",
    "class NeuralNet(nn.Module):\n",
    "    def __init__(self, input_size, hidden_size, num_classes):\n",
    "        super(NeuralNet, self).__init__()\n",
    "        self.l1 = nn.Linear(input_size, hidden_size)\n",
    "        self.relu = nn.ReLU()\n",
    "        self.l2 = nn.Linear(hidden_size, num_classes)\n",
    "        \n",
    "    def forward(self, x):\n",
    "        out = self.l1(x)\n",
    "        out = self.relu(out)\n",
    "        out = self.l2(out)\n",
    "        return out\n",
    "        "
   ]
  },
  {
   "cell_type": "code",
   "execution_count": 46,
   "id": "91a32dd9",
   "metadata": {},
   "outputs": [],
   "source": [
    "model = NeuralNet(input_size, hidden_size, num_classes)"
   ]
  },
  {
   "cell_type": "code",
   "execution_count": 47,
   "id": "9b880543",
   "metadata": {},
   "outputs": [],
   "source": [
    "#loss and optimizer\n",
    "criterion = nn.CrossEntropyLoss()\n",
    "optimizer = torch.optim.Adam(model.parameters(), lr = learning_rate)\n"
   ]
  },
  {
   "cell_type": "code",
   "execution_count": 48,
   "id": "9ed684a0",
   "metadata": {},
   "outputs": [
    {
     "name": "stdout",
     "output_type": "stream",
     "text": [
      "epoch 1 / 2, step 100/ 600, loss = 0.3184\n",
      "epoch 1 / 2, step 200/ 600, loss = 0.3771\n",
      "epoch 1 / 2, step 300/ 600, loss = 0.3288\n",
      "epoch 1 / 2, step 400/ 600, loss = 0.2655\n",
      "epoch 1 / 2, step 500/ 600, loss = 0.2576\n",
      "epoch 1 / 2, step 600/ 600, loss = 0.2560\n",
      "epoch 2 / 2, step 100/ 600, loss = 0.2856\n",
      "epoch 2 / 2, step 200/ 600, loss = 0.2840\n",
      "epoch 2 / 2, step 300/ 600, loss = 0.2310\n",
      "epoch 2 / 2, step 400/ 600, loss = 0.1427\n",
      "epoch 2 / 2, step 500/ 600, loss = 0.0891\n",
      "epoch 2 / 2, step 600/ 600, loss = 0.2196\n"
     ]
    }
   ],
   "source": [
    "#training loop\n",
    "n_total_steps = len(train_loader)\n",
    "for epoch in range(num_epochs):\n",
    "    for i, (images, labels) in enumerate(train_loader):\n",
    "        #100, 1, 28, 28\n",
    "        #100, 784\n",
    "        \n",
    "        #Reshaping tensor\n",
    "        images = images.reshape(-1, 28 * 28).to(device)\n",
    "        \n",
    "        labels = labels.to(device)\n",
    "        \n",
    "        #forward pass\n",
    "        output = model(images)\n",
    "        loss = criterion(output, labels)\n",
    "        \n",
    "        #backwarrd pass\n",
    "        optimizer.zero_grad()\n",
    "        loss.backward()\n",
    "        optimizer.step()\n",
    "        \n",
    "        if (i + 1) % 100 == 0:\n",
    "            print(f'epoch {epoch + 1} / {num_epochs}, step {i + 1}/ {n_total_steps}, loss = {loss.item():.4f}')\n",
    "            \n",
    "            \n",
    "            \n",
    "            "
   ]
  },
  {
   "cell_type": "code",
   "execution_count": 49,
   "id": "637bc154",
   "metadata": {},
   "outputs": [
    {
     "name": "stdout",
     "output_type": "stream",
     "text": [
      "accuracy = 95.06\n"
     ]
    }
   ],
   "source": [
    "#test\n",
    "with torch.no_grad():\n",
    "    n_correct = 0\n",
    "    n_samples = 0\n",
    "    \n",
    "    for images, labels in test_loader:\n",
    "        images = images.reshape(-1, 28 * 28).to(device)\n",
    "        labels = labels.to(device)\n",
    "        outputs = model(images)\n",
    "        \n",
    "        #value, index\n",
    "        _, predictions = torch.max(outputs, 1)\n",
    "        n_samples += labels.shape[0]\n",
    "        n_correct += (predictions == labels).sum().item()\n",
    "        \n",
    "        \n",
    "    acc = 100.0 *(n_correct / n_samples)\n",
    "\n",
    "    print(f'accuracy = {acc}')"
   ]
  },
  {
   "cell_type": "markdown",
   "id": "0b2504f3",
   "metadata": {},
   "source": [
    "# Containers "
   ]
  },
  {
   "cell_type": "markdown",
   "id": "46d7c88c",
   "metadata": {},
   "source": [
    "Pytorch containers provide as very efficient and simple way of creating deep neural network\\\n",
    "Containers makes it easier to handle random layers to update train and so on"
   ]
  },
  {
   "cell_type": "markdown",
   "id": "02ff9c9c",
   "metadata": {},
   "source": [
    "Sequential layers are useful containers for homogeneous layer organization\\\n"
   ]
  },
  {
   "cell_type": "code",
   "execution_count": 50,
   "id": "4841b882",
   "metadata": {},
   "outputs": [],
   "source": [
    "# Single layer neural network\n",
    "class NeuralNet(nn.Module):\n",
    "    def __int__(self, input_size, output_size):\n",
    "        super(NeuralNet, self).__int__()\n",
    "        self.nn = nn.Linear(input_size, output_size)\n",
    "        slef.sigmoid == nn.Sigmoid()\n",
    "        \n",
    "    def forward(self, inputs):\n",
    "        tensor = self.nn(inouts)\n",
    "        tensor = self.sigmoid(tensor)\n",
    "        return tensor"
   ]
  },
  {
   "cell_type": "code",
   "execution_count": 51,
   "id": "2aaa7894",
   "metadata": {},
   "outputs": [],
   "source": [
    "#Two layers\n",
    "class NeuralNet(nn.Module):\n",
    "    def __int__(self, input_size, output_size):\n",
    "        super(NeuralNet, self).__int__()\n",
    "        self.nn = nn.Linear(input_size, output_size)\n",
    "        slef.sigmoid == nn.Sigmoid()\n",
    "        \n",
    "        self.nn2 = nn.Linear(input_size, output_size)\n",
    "        slef.sigmoid2 == nn.Sigmoid()\n",
    "    def forward(self, inputs):\n",
    "        tensor = self.nn(inputs)\n",
    "        tensor = self.sigmoid(tensor)\n",
    "        tensor = self.nn2(inputs)\n",
    "        tensor = self.sigmoid2(tensor)\n",
    "        return tensor"
   ]
  },
  {
   "cell_type": "markdown",
   "id": "b666e15c",
   "metadata": {},
   "source": [
    "If you see if you have 20 layers neural network then you need to copy these lines 20 times\\\n",
    "Sequential container is used instead of doing this"
   ]
  },
  {
   "cell_type": "markdown",
   "id": "c2f25fe2",
   "metadata": {},
   "source": [
    "# Sequential Container"
   ]
  },
  {
   "cell_type": "code",
   "execution_count": 52,
   "id": "ab84d326",
   "metadata": {},
   "outputs": [],
   "source": [
    "class NeuralNet(nn.Module):\n",
    "    def __init__(self, input_size, output_size, num_hidden_layer = 10, hidden_layer_size = 128):\n",
    "        super(NeuralNet, self).__init__()\n",
    "        self.deep_nn = nn.Sequential()\n",
    "        for i in range(num_hidden_layer):\n",
    "            self.deep_nn.add_module(f'ff{i}', nn.Linear(input_size, hidden_layer_size))\n",
    "            #For the first hidden layer input size will be what we are expecting it to send for further on it will be hidden layer size, hidden layer size\n",
    "            \n",
    "            self.deep_nn.add_module(f'activation', nn.ReLU())\n",
    "            \n",
    "            input_size = hidden_layer_size\n",
    "        self.deep_nn.add_module(f'classifier', nn.Linear(hidden_layer_size, output_size))  \n",
    "    \n",
    "    #for earlier we needed to call it again and again and again but when we create a model with a sequential container we will call it once and so what happens is from the first moudle it simply keep passing the output to the next layer\n",
    "    def forward(self, inputs):\n",
    "        tensor = self.deep_nn(inputs)\n",
    "        return tensor"
   ]
  },
  {
   "cell_type": "code",
   "execution_count": 53,
   "id": "0b740472",
   "metadata": {},
   "outputs": [
    {
     "name": "stdout",
     "output_type": "stream",
     "text": [
      "tensor([[ 0.0932, -0.0008],\n",
      "        [ 0.0936, -0.0001],\n",
      "        [ 0.0926, -0.0007],\n",
      "        [ 0.0937, -0.0009]], grad_fn=<AddmmBackward0>)\n"
     ]
    }
   ],
   "source": [
    "x = torch.rand(4, 16)\n",
    "model = NeuralNet(16, 2)\n",
    "output = model(x)\n",
    "print(output)"
   ]
  },
  {
   "cell_type": "markdown",
   "id": "81e6af31",
   "metadata": {},
   "source": [
    "sequential model is actuall a dictionary so when we do add_module we will keep replacing the previous value\\\n",
    "so we need to add here a number so that all the keys will be distinct\\\n",
    "Corrected code below"
   ]
  },
  {
   "cell_type": "code",
   "execution_count": 54,
   "id": "89dd9fcd",
   "metadata": {},
   "outputs": [],
   "source": [
    "class NeuralNet(nn.Module):\n",
    "    def __init__(self, input_size, output_size, num_hidden_layer = 10, hidden_layer_size = 128):\n",
    "        super(NeuralNet, self).__init__()\n",
    "        self.deep_nn = nn.Sequential()\n",
    "        for i in range(num_hidden_layer):\n",
    "            self.deep_nn.add_module(f'ff{i}', nn.Linear(input_size, hidden_layer_size))\n",
    "            #For the first hidden layer input size will be what we are expecting it to send for further on it will be hidden layer size, hidden layer size\n",
    "            \n",
    "            self.deep_nn.add_module(f'activation{i}', nn.ReLU())\n",
    "            \n",
    "            input_size = hidden_layer_size\n",
    "        self.deep_nn.add_module(f'classifier', nn.Linear(hidden_layer_size, output_size))  \n",
    "    \n",
    "    #for earlier we needed to call it again and again and again but when we create a model with a sequential container we will call it once and so what happens is from the first moudle it simply keep passing the output to the next layer\n",
    "    def forward(self, inputs):\n",
    "        tensor = self.deep_nn(inputs)\n",
    "        return tensor"
   ]
  },
  {
   "cell_type": "code",
   "execution_count": 55,
   "id": "734e8c66",
   "metadata": {},
   "outputs": [
    {
     "name": "stdout",
     "output_type": "stream",
     "text": [
      "tensor([[-0.0555,  0.0329],\n",
      "        [-0.0555,  0.0329],\n",
      "        [-0.0555,  0.0329],\n",
      "        [-0.0555,  0.0329]], grad_fn=<AddmmBackward0>)\n"
     ]
    }
   ],
   "source": [
    "x = torch.rand(4, 16)\n",
    "model = NeuralNet(16, 2)\n",
    "output = model(x)\n",
    "print(output)"
   ]
  },
  {
   "cell_type": "markdown",
   "id": "78505fdf",
   "metadata": {},
   "source": [
    "# ModuleList and ModuleDict"
   ]
  },
  {
   "cell_type": "markdown",
   "id": "c69e6c56",
   "metadata": {},
   "source": [
    "If you want to hidden layers output you won't be able to do it with sequential containers. That case you need to module list\\\n",
    "If you want a selection during the processing you need to use module dict\\\n",
    "Module list and module dict does not have anything like forward method. In nn.Sequential container we have forward method implemented but in case of nn.ModuleList we don't have that. For each and every layer we need to call it"
   ]
  },
  {
   "cell_type": "code",
   "execution_count": 56,
   "id": "42c8c346",
   "metadata": {},
   "outputs": [],
   "source": [
    "class NeuralNet(nn.Module):\n",
    "    def __init__(self, input_size, output_size, num_hidden_layer = 10, hidden_layer_size = 128):\n",
    "        super(NeuralNet, self).__init__()\n",
    "        self.deep_nn = nn.ModuleList()\n",
    "        for i in range(num_hidden_layer):\n",
    "            self.deep_nn.add_module(f'ff{i}', nn.Linear(input_size, hidden_layer_size))\n",
    "            #For the first hidden layer input size will be what we are expecting it to send for further on it will be hidden layer size, hidden layer size\n",
    "            \n",
    "            self.deep_nn.add_module(f'activation{i}', nn.ReLU())\n",
    "            \n",
    "            input_size = hidden_layer_size\n",
    "        self.deep_nn.add_module(f'classifier', nn.Linear(hidden_layer_size, output_size))  \n",
    "    \n",
    "    #for earlier we needed to call it again and again and again but when we create a model with a sequential container we will call it once and so what happens is from the first moudle it simply keep passing the output to the next layer\n",
    "    def forward(self, inputs):\n",
    "        #we can keep track of output of each layer\n",
    "        hidden_states = []\n",
    "        for layer in self.deep_nn:\n",
    "            print(layer)\n",
    "            tensor = layer(inputs)\n",
    "            hidden_states.append(tensor)\n",
    "            inputs = tensor\n",
    "            \n",
    "        return hidden_states[-1], hidden_states\n"
   ]
  },
  {
   "cell_type": "code",
   "execution_count": 57,
   "id": "635b5322",
   "metadata": {
    "scrolled": true
   },
   "outputs": [
    {
     "name": "stdout",
     "output_type": "stream",
     "text": [
      "Linear(in_features=16, out_features=128, bias=True)\n",
      "ReLU()\n",
      "Linear(in_features=128, out_features=128, bias=True)\n",
      "ReLU()\n",
      "Linear(in_features=128, out_features=128, bias=True)\n",
      "ReLU()\n",
      "Linear(in_features=128, out_features=128, bias=True)\n",
      "ReLU()\n",
      "Linear(in_features=128, out_features=128, bias=True)\n",
      "ReLU()\n",
      "Linear(in_features=128, out_features=128, bias=True)\n",
      "ReLU()\n",
      "Linear(in_features=128, out_features=128, bias=True)\n",
      "ReLU()\n",
      "Linear(in_features=128, out_features=128, bias=True)\n",
      "ReLU()\n",
      "Linear(in_features=128, out_features=128, bias=True)\n",
      "ReLU()\n",
      "Linear(in_features=128, out_features=128, bias=True)\n",
      "ReLU()\n",
      "Linear(in_features=128, out_features=2, bias=True)\n",
      "tensor([[-0.0637,  0.1000],\n",
      "        [-0.0637,  0.1000],\n",
      "        [-0.0636,  0.1000],\n",
      "        [-0.0637,  0.1001]], grad_fn=<AddmmBackward0>)\n"
     ]
    }
   ],
   "source": [
    "x = torch.rand(4, 16)\n",
    "model = NeuralNet(16, 2)\n",
    "output, states = model(x)\n",
    "print(output)"
   ]
  },
  {
   "cell_type": "markdown",
   "id": "bb61200a",
   "metadata": {},
   "source": [
    "If we use simple python list parameters won't be registered to the model.parameters method and eventually you won't be able to train them because when you add them in module list they are registered properly and when we run the optimiser on that they are trained\\\n",
    "it is implemented in such a way that it is integrated with pytorch environment\n"
   ]
  },
  {
   "cell_type": "markdown",
   "id": "c2bbc123",
   "metadata": {},
   "source": [
    "## ModuleDict"
   ]
  },
  {
   "cell_type": "markdown",
   "id": "b5f2e81b",
   "metadata": {},
   "source": [
    "Module dict is simply like when you need random selection given the choice use module dict\\\n",
    "\n"
   ]
  },
  {
   "cell_type": "code",
   "execution_count": 58,
   "id": "5155d3b9",
   "metadata": {},
   "outputs": [],
   "source": [
    "class NeuralNet(nn.Module):\n",
    "    def __init__(self, input_size, output_size, num_hidden_layer = 10, hidden_layer_size = 128, choice = 'rrelu'):\n",
    "        super(NeuralNet, self).__init__()\n",
    "        self.act = nn.ModuleDict({\n",
    "            'rrelu' : nn.ReLU(),\n",
    "            'prelu' : nn.PReLU(),\n",
    "            \n",
    "            \n",
    "        })\n",
    "        self.deep_nn = nn.ModuleList()\n",
    "        for i in range(num_hidden_layer):\n",
    "            self.deep_nn.add_module(f'ff{i}', nn.Linear(input_size, hidden_layer_size))\n",
    "            #For the first hidden layer input size will be what we are expecting it to send for further on it will be hidden layer size, hidden layer size\n",
    "            \n",
    "            self.deep_nn.add_module(f'activation{i}', self.act[choice])\n",
    "            \n",
    "            input_size = hidden_layer_size\n",
    "        self.deep_nn.add_module(f'classifier', nn.Linear(hidden_layer_size, output_size))  \n",
    "    \n",
    "    #for earlier we needed to call it again and again and again but when we create a model with a sequential container we will call it once and so what happens is from the first moudle it simply keep passing the output to the next layer\n",
    "    def forward(self, inputs):\n",
    "        #we can keep track of output of each layer\n",
    "        hidden_states = []\n",
    "        for layer in self.deep_nn:\n",
    "            print(layer)\n",
    "            tensor = layer(inputs)\n",
    "            hidden_states.append(tensor)\n",
    "            inputs = tensor\n",
    "            \n",
    "        return hidden_states[-1], hidden_states\n"
   ]
  },
  {
   "cell_type": "code",
   "execution_count": 59,
   "id": "972d880b",
   "metadata": {},
   "outputs": [
    {
     "name": "stdout",
     "output_type": "stream",
     "text": [
      "Linear(in_features=16, out_features=128, bias=True)\n",
      "PReLU(num_parameters=1)\n",
      "Linear(in_features=128, out_features=128, bias=True)\n",
      "PReLU(num_parameters=1)\n",
      "Linear(in_features=128, out_features=128, bias=True)\n",
      "PReLU(num_parameters=1)\n",
      "Linear(in_features=128, out_features=128, bias=True)\n",
      "PReLU(num_parameters=1)\n",
      "Linear(in_features=128, out_features=128, bias=True)\n",
      "PReLU(num_parameters=1)\n",
      "Linear(in_features=128, out_features=128, bias=True)\n",
      "PReLU(num_parameters=1)\n",
      "Linear(in_features=128, out_features=128, bias=True)\n",
      "PReLU(num_parameters=1)\n",
      "Linear(in_features=128, out_features=128, bias=True)\n",
      "PReLU(num_parameters=1)\n",
      "Linear(in_features=128, out_features=128, bias=True)\n",
      "PReLU(num_parameters=1)\n",
      "Linear(in_features=128, out_features=128, bias=True)\n",
      "PReLU(num_parameters=1)\n",
      "Linear(in_features=128, out_features=2, bias=True)\n",
      "tensor([[-0.0598,  0.0343],\n",
      "        [-0.0598,  0.0343],\n",
      "        [-0.0598,  0.0343],\n",
      "        [-0.0599,  0.0343]], grad_fn=<AddmmBackward0>)\n"
     ]
    }
   ],
   "source": [
    "x = torch.rand(4, 16)\n",
    "model = NeuralNet(16, 2, choice = 'prelu')\n",
    "output, states = model(x)\n",
    "print(output)"
   ]
  },
  {
   "cell_type": "code",
   "execution_count": 60,
   "id": "20f7dd71",
   "metadata": {},
   "outputs": [],
   "source": [
    "class MyModule(nn.Module):\n",
    "    def __init__(self):\n",
    "        super(MyModule, self).__init__()\n",
    "        self.linears = nn.ModuleList([nn.Linear(10, 10) for i in range(10)])\n",
    "\n",
    "    def forward(self, x):\n",
    "        # ModuleList can act as an iterable, or be indexed using ints\n",
    "        for i, l in enumerate(self.linears):\n",
    "            x = self.linears[i // 2](x) + l(x)\n",
    "        return x"
   ]
  },
  {
   "cell_type": "code",
   "execution_count": 61,
   "id": "cb98330b",
   "metadata": {},
   "outputs": [
    {
     "name": "stdout",
     "output_type": "stream",
     "text": [
      "tensor([[-0.4845,  1.4942, -0.4674,  0.1987,  0.3185,  0.8703, -0.3663,  0.1742,\n",
      "          0.1581, -0.2437],\n",
      "        [-0.4698,  1.2141, -0.3544,  0.2200,  0.4180,  0.6915, -0.1934,  0.2759,\n",
      "          0.2954, -0.2324],\n",
      "        [-0.4027,  1.0996, -0.3399,  0.2166,  0.4161,  0.6382, -0.1552,  0.3048,\n",
      "          0.3085, -0.1889],\n",
      "        [-0.4522,  1.2757, -0.4048,  0.2160,  0.3742,  0.7571, -0.2455,  0.2586,\n",
      "          0.2613, -0.2265]], grad_fn=<AddBackward0>)\n"
     ]
    }
   ],
   "source": [
    "x = torch.rand(4, 10)\n",
    "model = MyModule()\n",
    "output = model(x)\n",
    "print(output)"
   ]
  },
  {
   "cell_type": "code",
   "execution_count": null,
   "id": "8e0208e3",
   "metadata": {},
   "outputs": [],
   "source": []
  }
 ],
 "metadata": {
  "kernelspec": {
   "display_name": "Python 3 (ipykernel)",
   "language": "python",
   "name": "python3"
  },
  "language_info": {
   "codemirror_mode": {
    "name": "ipython",
    "version": 3
   },
   "file_extension": ".py",
   "mimetype": "text/x-python",
   "name": "python",
   "nbconvert_exporter": "python",
   "pygments_lexer": "ipython3",
   "version": "3.8.3"
  }
 },
 "nbformat": 4,
 "nbformat_minor": 5
}
