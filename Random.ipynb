{
 "cells": [
  {
   "cell_type": "code",
   "execution_count": 2,
   "id": "346b12df",
   "metadata": {},
   "outputs": [
    {
     "name": "stdout",
     "output_type": "stream",
     "text": [
      "[4, 5, 3]\n",
      "With string: ['e', 'G', 's', 'e']\n",
      "With tuple: ['geeks', 'science', 'ankit', 'portal']\n",
      "With set: ['a', 'e', 'd']\n"
     ]
    },
    {
     "name": "stderr",
     "output_type": "stream",
     "text": [
      "/var/folders/g5/b9y581rx30570s6hjvj8t6_h0000gn/T/ipykernel_11599/1851512861.py:21: DeprecationWarning: Sampling from a set deprecated\n",
      "since Python 3.9 and will be removed in a subsequent version.\n",
      "  print(\"With set:\", random.sample(set1, 3))\n"
     ]
    }
   ],
   "source": [
    "import random\n",
    "  \n",
    "# Prints list of random items of given length\n",
    "list1 = [1, 2, 3, 4, 5] \n",
    "  \n",
    "print(sample(list1,3))\n",
    "\n",
    "string = \"GeeksforGeeks\"\n",
    "print(\"With string:\", random.sample(string, 4))\n",
    "  \n",
    "# Prints list of random items of\n",
    "# length 4 from the given tuple.\n",
    "tuple1 = (\"ankit\", \"geeks\", \"computer\", \"science\",\n",
    "                   \"portal\", \"scientist\", \"btech\")\n",
    "print(\"With tuple:\", random.sample(tuple1, 4))\n",
    "  \n",
    "  \n",
    "# Prints list of random items of\n",
    "# length 3 from the given set.\n",
    "set1 = {\"a\", \"b\", \"c\", \"d\", \"e\"}\n",
    "print(\"With set:\", random.sample(set1, 3))\n",
    "\n"
   ]
  },
  {
   "cell_type": "code",
   "execution_count": null,
   "id": "c6efdb54",
   "metadata": {},
   "outputs": [],
   "source": []
  }
 ],
 "metadata": {
  "kernelspec": {
   "display_name": "Python 3 (ipykernel)",
   "language": "python",
   "name": "python3"
  },
  "language_info": {
   "codemirror_mode": {
    "name": "ipython",
    "version": 3
   },
   "file_extension": ".py",
   "mimetype": "text/x-python",
   "name": "python",
   "nbconvert_exporter": "python",
   "pygments_lexer": "ipython3",
   "version": "3.8.3"
  }
 },
 "nbformat": 4,
 "nbformat_minor": 5
}
